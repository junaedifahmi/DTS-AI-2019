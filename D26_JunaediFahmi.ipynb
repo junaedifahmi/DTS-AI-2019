{
  "nbformat": 4,
  "nbformat_minor": 0,
  "metadata": {
    "colab": {
      "name": "D26_JunaediFahmi.ipynb",
      "version": "0.3.2",
      "provenance": [],
      "collapsed_sections": [],
      "include_colab_link": true
    },
    "kernelspec": {
      "name": "python3",
      "display_name": "Python 3"
    }
  },
  "cells": [
    {
      "cell_type": "markdown",
      "metadata": {
        "id": "view-in-github",
        "colab_type": "text"
      },
      "source": [
        "<a href=\"https://colab.research.google.com/github/juunnn/DTSAI2019/blob/master/D26_JunaediFahmi.ipynb\" target=\"_parent\"><img src=\"https://colab.research.google.com/assets/colab-badge.svg\" alt=\"Open In Colab\"/></a>"
      ]
    },
    {
      "cell_type": "markdown",
      "metadata": {
        "id": "juRiKg7hhcwl",
        "colab_type": "text"
      },
      "source": [
        "# Natural Language Proccessing\n",
        "------\n",
        "Why? Selama ada manusia yang berkomunikasi dengan komputer maka jenis interface akan selalu mengalami perubahan mengikuti jenis komunikasi antara manusia dengan manusia (**Natural**)."
      ]
    },
    {
      "cell_type": "code",
      "metadata": {
        "id": "UhN-jqRghQ-L",
        "colab_type": "code",
        "colab": {}
      },
      "source": [
        "import nltk"
      ],
      "execution_count": 0,
      "outputs": []
    },
    {
      "cell_type": "code",
      "metadata": {
        "id": "Fbg4Fga9wMDR",
        "colab_type": "code",
        "outputId": "ad228156-755c-46f7-cd0f-f0076abe7039",
        "colab": {
          "base_uri": "https://localhost:8080/",
          "height": 68
        }
      },
      "source": [
        "nltk.download('punkt')"
      ],
      "execution_count": 0,
      "outputs": [
        {
          "output_type": "stream",
          "text": [
            "[nltk_data] Downloading package punkt to /root/nltk_data...\n",
            "[nltk_data]   Unzipping tokenizers/punkt.zip.\n"
          ],
          "name": "stdout"
        },
        {
          "output_type": "execute_result",
          "data": {
            "text/plain": [
              "True"
            ]
          },
          "metadata": {
            "tags": []
          },
          "execution_count": 2
        }
      ]
    },
    {
      "cell_type": "code",
      "metadata": {
        "id": "M6Svf-howbfI",
        "colab_type": "code",
        "colab": {}
      },
      "source": [
        "text = \"\"\" Hello, Mr. Smith, how are you doing today? the weather is great and city is awesome. The sky is pinkish-blue. You shouldn't eat cardboard \"\"\""
      ],
      "execution_count": 0,
      "outputs": []
    },
    {
      "cell_type": "code",
      "metadata": {
        "id": "N3G5rPEnwbcI",
        "colab_type": "code",
        "outputId": "56e1683e-1b50-467f-d88f-455b32f27d9c",
        "colab": {
          "base_uri": "https://localhost:8080/",
          "height": 85
        }
      },
      "source": [
        "from nltk.tokenize import sent_tokenize\n",
        "\n",
        "tokenized_text = sent_tokenize(text)\n",
        "tokenized_text"
      ],
      "execution_count": 0,
      "outputs": [
        {
          "output_type": "execute_result",
          "data": {
            "text/plain": [
              "[' Hello, Mr. Smith, how are you doing today?',\n",
              " 'the weather is great and city is awesome.',\n",
              " 'The sky is pinkish-blue.',\n",
              " \"You shouldn't eat cardboard\"]"
            ]
          },
          "metadata": {
            "tags": []
          },
          "execution_count": 4
        }
      ]
    },
    {
      "cell_type": "code",
      "metadata": {
        "id": "fmlEz3h3ysee",
        "colab_type": "code",
        "outputId": "0aaff4a0-4b6b-4e98-bc53-a344c509ca09",
        "colab": {
          "base_uri": "https://localhost:8080/",
          "height": 527
        }
      },
      "source": [
        "from nltk.tokenize import word_tokenize\n",
        "\n",
        "tokenized_words = word_tokenize(text)\n",
        "tokenized_words"
      ],
      "execution_count": 0,
      "outputs": [
        {
          "output_type": "execute_result",
          "data": {
            "text/plain": [
              "['Hello',\n",
              " ',',\n",
              " 'Mr.',\n",
              " 'Smith',\n",
              " ',',\n",
              " 'how',\n",
              " 'are',\n",
              " 'you',\n",
              " 'doing',\n",
              " 'today',\n",
              " '?',\n",
              " 'the',\n",
              " 'weather',\n",
              " 'is',\n",
              " 'great',\n",
              " 'and',\n",
              " 'city',\n",
              " 'is',\n",
              " 'awesome',\n",
              " '.',\n",
              " 'The',\n",
              " 'sky',\n",
              " 'is',\n",
              " 'pinkish-blue',\n",
              " '.',\n",
              " 'You',\n",
              " 'should',\n",
              " \"n't\",\n",
              " 'eat',\n",
              " 'cardboard']"
            ]
          },
          "metadata": {
            "tags": []
          },
          "execution_count": 5
        }
      ]
    },
    {
      "cell_type": "code",
      "metadata": {
        "id": "3kwLGtIIy7eJ",
        "colab_type": "code",
        "outputId": "86bd1e8a-f673-45a9-e430-e05f939aaa09",
        "colab": {
          "base_uri": "https://localhost:8080/",
          "height": 425
        }
      },
      "source": [
        "text.split()"
      ],
      "execution_count": 0,
      "outputs": [
        {
          "output_type": "execute_result",
          "data": {
            "text/plain": [
              "['Hello,',\n",
              " 'Mr.',\n",
              " 'Smith,',\n",
              " 'how',\n",
              " 'are',\n",
              " 'you',\n",
              " 'doing',\n",
              " 'today?',\n",
              " 'the',\n",
              " 'weather',\n",
              " 'is',\n",
              " 'great',\n",
              " 'and',\n",
              " 'city',\n",
              " 'is',\n",
              " 'awesome.',\n",
              " 'The',\n",
              " 'sky',\n",
              " 'is',\n",
              " 'pinkish-blue.',\n",
              " 'You',\n",
              " \"shouldn't\",\n",
              " 'eat',\n",
              " 'cardboard']"
            ]
          },
          "metadata": {
            "tags": []
          },
          "execution_count": 6
        }
      ]
    },
    {
      "cell_type": "markdown",
      "metadata": {
        "id": "ddQBMhY4OWMr",
        "colab_type": "text"
      },
      "source": [
        "## Excercise 1"
      ]
    },
    {
      "cell_type": "code",
      "metadata": {
        "id": "_w7Hm5PdzkwG",
        "colab_type": "code",
        "outputId": "6c175efc-944d-4795-a682-ba1b3563e169",
        "colab": {
          "base_uri": "https://localhost:8080/",
          "height": 255
        }
      },
      "source": [
        "def tokenized_words_sent(text):\n",
        "    return [word_tokenize(x) for x in sent_tokenize(text)]\n",
        "\n",
        "sword = tokenized_words_sent(text)\n",
        "sword"
      ],
      "execution_count": 0,
      "outputs": [
        {
          "output_type": "execute_result",
          "data": {
            "text/plain": [
              "[['Hello',\n",
              "  ',',\n",
              "  'Mr.',\n",
              "  'Smith',\n",
              "  ',',\n",
              "  'how',\n",
              "  'are',\n",
              "  'you',\n",
              "  'doing',\n",
              "  'today',\n",
              "  '?'],\n",
              " ['the', 'weather', 'is', 'great', 'and', 'city', 'is', 'awesome', '.'],\n",
              " ['The', 'sky', 'is', 'pinkish-blue', '.'],\n",
              " ['You', 'should', \"n't\", 'eat', 'cardboard']]"
            ]
          },
          "metadata": {
            "tags": []
          },
          "execution_count": 7
        }
      ]
    },
    {
      "cell_type": "code",
      "metadata": {
        "id": "Synen-GU0amN",
        "colab_type": "code",
        "outputId": "efcb3e38-d202-40c4-9a0a-715d855a1eb3",
        "colab": {
          "base_uri": "https://localhost:8080/",
          "height": 510
        }
      },
      "source": [
        "from nltk.util import bigrams, trigrams, ngrams\n",
        "\n",
        "list(bigrams(tokenized_words))"
      ],
      "execution_count": 0,
      "outputs": [
        {
          "output_type": "execute_result",
          "data": {
            "text/plain": [
              "[('Hello', ','),\n",
              " (',', 'Mr.'),\n",
              " ('Mr.', 'Smith'),\n",
              " ('Smith', ','),\n",
              " (',', 'how'),\n",
              " ('how', 'are'),\n",
              " ('are', 'you'),\n",
              " ('you', 'doing'),\n",
              " ('doing', 'today'),\n",
              " ('today', '?'),\n",
              " ('?', 'the'),\n",
              " ('the', 'weather'),\n",
              " ('weather', 'is'),\n",
              " ('is', 'great'),\n",
              " ('great', 'and'),\n",
              " ('and', 'city'),\n",
              " ('city', 'is'),\n",
              " ('is', 'awesome'),\n",
              " ('awesome', '.'),\n",
              " ('.', 'The'),\n",
              " ('The', 'sky'),\n",
              " ('sky', 'is'),\n",
              " ('is', 'pinkish-blue'),\n",
              " ('pinkish-blue', '.'),\n",
              " ('.', 'You'),\n",
              " ('You', 'should'),\n",
              " ('should', \"n't\"),\n",
              " (\"n't\", 'eat'),\n",
              " ('eat', 'cardboard')]"
            ]
          },
          "metadata": {
            "tags": []
          },
          "execution_count": 8
        }
      ]
    },
    {
      "cell_type": "code",
      "metadata": {
        "id": "xOFRxuiE05J0",
        "colab_type": "code",
        "outputId": "04ba7d7c-06e2-45a9-cc47-52aa0425912f",
        "colab": {
          "base_uri": "https://localhost:8080/",
          "height": 493
        }
      },
      "source": [
        "list(trigrams(tokenized_words))"
      ],
      "execution_count": 0,
      "outputs": [
        {
          "output_type": "execute_result",
          "data": {
            "text/plain": [
              "[('Hello', ',', 'Mr.'),\n",
              " (',', 'Mr.', 'Smith'),\n",
              " ('Mr.', 'Smith', ','),\n",
              " ('Smith', ',', 'how'),\n",
              " (',', 'how', 'are'),\n",
              " ('how', 'are', 'you'),\n",
              " ('are', 'you', 'doing'),\n",
              " ('you', 'doing', 'today'),\n",
              " ('doing', 'today', '?'),\n",
              " ('today', '?', 'the'),\n",
              " ('?', 'the', 'weather'),\n",
              " ('the', 'weather', 'is'),\n",
              " ('weather', 'is', 'great'),\n",
              " ('is', 'great', 'and'),\n",
              " ('great', 'and', 'city'),\n",
              " ('and', 'city', 'is'),\n",
              " ('city', 'is', 'awesome'),\n",
              " ('is', 'awesome', '.'),\n",
              " ('awesome', '.', 'The'),\n",
              " ('.', 'The', 'sky'),\n",
              " ('The', 'sky', 'is'),\n",
              " ('sky', 'is', 'pinkish-blue'),\n",
              " ('is', 'pinkish-blue', '.'),\n",
              " ('pinkish-blue', '.', 'You'),\n",
              " ('.', 'You', 'should'),\n",
              " ('You', 'should', \"n't\"),\n",
              " ('should', \"n't\", 'eat'),\n",
              " (\"n't\", 'eat', 'cardboard')]"
            ]
          },
          "metadata": {
            "tags": []
          },
          "execution_count": 9
        }
      ]
    },
    {
      "cell_type": "code",
      "metadata": {
        "id": "u0IwjFuP1QPC",
        "colab_type": "code",
        "outputId": "dea2e0c0-16c6-4004-ca7f-32bae9932eeb",
        "colab": {
          "base_uri": "https://localhost:8080/",
          "height": 459
        }
      },
      "source": [
        "list(ngrams(tokenized_words, 5))"
      ],
      "execution_count": 0,
      "outputs": [
        {
          "output_type": "execute_result",
          "data": {
            "text/plain": [
              "[('Hello', ',', 'Mr.', 'Smith', ','),\n",
              " (',', 'Mr.', 'Smith', ',', 'how'),\n",
              " ('Mr.', 'Smith', ',', 'how', 'are'),\n",
              " ('Smith', ',', 'how', 'are', 'you'),\n",
              " (',', 'how', 'are', 'you', 'doing'),\n",
              " ('how', 'are', 'you', 'doing', 'today'),\n",
              " ('are', 'you', 'doing', 'today', '?'),\n",
              " ('you', 'doing', 'today', '?', 'the'),\n",
              " ('doing', 'today', '?', 'the', 'weather'),\n",
              " ('today', '?', 'the', 'weather', 'is'),\n",
              " ('?', 'the', 'weather', 'is', 'great'),\n",
              " ('the', 'weather', 'is', 'great', 'and'),\n",
              " ('weather', 'is', 'great', 'and', 'city'),\n",
              " ('is', 'great', 'and', 'city', 'is'),\n",
              " ('great', 'and', 'city', 'is', 'awesome'),\n",
              " ('and', 'city', 'is', 'awesome', '.'),\n",
              " ('city', 'is', 'awesome', '.', 'The'),\n",
              " ('is', 'awesome', '.', 'The', 'sky'),\n",
              " ('awesome', '.', 'The', 'sky', 'is'),\n",
              " ('.', 'The', 'sky', 'is', 'pinkish-blue'),\n",
              " ('The', 'sky', 'is', 'pinkish-blue', '.'),\n",
              " ('sky', 'is', 'pinkish-blue', '.', 'You'),\n",
              " ('is', 'pinkish-blue', '.', 'You', 'should'),\n",
              " ('pinkish-blue', '.', 'You', 'should', \"n't\"),\n",
              " ('.', 'You', 'should', \"n't\", 'eat'),\n",
              " ('You', 'should', \"n't\", 'eat', 'cardboard')]"
            ]
          },
          "metadata": {
            "tags": []
          },
          "execution_count": 10
        }
      ]
    },
    {
      "cell_type": "code",
      "metadata": {
        "id": "niHQ0yTT1gUI",
        "colab_type": "code",
        "outputId": "98f0275d-2644-4dcf-a0e8-fffb68948c11",
        "colab": {
          "base_uri": "https://localhost:8080/",
          "height": 459
        }
      },
      "source": [
        "from nltk import FreqDist\n",
        "\n",
        "freq_dist = FreqDist(tokenized_words)\n",
        "freq_dist"
      ],
      "execution_count": 0,
      "outputs": [
        {
          "output_type": "execute_result",
          "data": {
            "text/plain": [
              "FreqDist({',': 2,\n",
              "          '.': 2,\n",
              "          '?': 1,\n",
              "          'Hello': 1,\n",
              "          'Mr.': 1,\n",
              "          'Smith': 1,\n",
              "          'The': 1,\n",
              "          'You': 1,\n",
              "          'and': 1,\n",
              "          'are': 1,\n",
              "          'awesome': 1,\n",
              "          'cardboard': 1,\n",
              "          'city': 1,\n",
              "          'doing': 1,\n",
              "          'eat': 1,\n",
              "          'great': 1,\n",
              "          'how': 1,\n",
              "          'is': 3,\n",
              "          \"n't\": 1,\n",
              "          'pinkish-blue': 1,\n",
              "          'should': 1,\n",
              "          'sky': 1,\n",
              "          'the': 1,\n",
              "          'today': 1,\n",
              "          'weather': 1,\n",
              "          'you': 1})"
            ]
          },
          "metadata": {
            "tags": []
          },
          "execution_count": 11
        }
      ]
    },
    {
      "cell_type": "code",
      "metadata": {
        "id": "gb_3Qzh710n3",
        "colab_type": "code",
        "outputId": "d715dcc1-2637-40c3-ac78-2a50a371f60a",
        "colab": {
          "base_uri": "https://localhost:8080/",
          "height": 34
        }
      },
      "source": [
        "freq_dist.most_common(3)"
      ],
      "execution_count": 0,
      "outputs": [
        {
          "output_type": "execute_result",
          "data": {
            "text/plain": [
              "[('is', 3), (',', 2), ('.', 2)]"
            ]
          },
          "metadata": {
            "tags": []
          },
          "execution_count": 12
        }
      ]
    },
    {
      "cell_type": "code",
      "metadata": {
        "id": "yNXVYP6s17Yf",
        "colab_type": "code",
        "outputId": "20923dd6-2f56-4075-b6be-59e40f2f8340",
        "colab": {
          "base_uri": "https://localhost:8080/",
          "height": 334
        }
      },
      "source": [
        "import matplotlib.pyplot as plt\n",
        "%matplotlib inline\n",
        "\n",
        "freq_dist.plot()"
      ],
      "execution_count": 0,
      "outputs": [
        {
          "output_type": "display_data",
          "data": {
            "image/png": "[encoded data removed]",
            "text/plain": [
              "<Figure size 432x288 with 1 Axes>"
            ]
          },
          "metadata": {
            "tags": []
          }
        }
      ]
    },
    {
      "cell_type": "code",
      "metadata": {
        "id": "4dBUxVBI3LXq",
        "colab_type": "code",
        "outputId": "6404455f-0690-4209-e6e1-d180182cf891",
        "colab": {
          "base_uri": "https://localhost:8080/",
          "height": 68
        }
      },
      "source": [
        "nltk.download(\"stopwords\")"
      ],
      "execution_count": 0,
      "outputs": [
        {
          "output_type": "stream",
          "text": [
            "[nltk_data] Downloading package stopwords to /root/nltk_data...\n",
            "[nltk_data]   Unzipping corpora/stopwords.zip.\n"
          ],
          "name": "stdout"
        },
        {
          "output_type": "execute_result",
          "data": {
            "text/plain": [
              "True"
            ]
          },
          "metadata": {
            "tags": []
          },
          "execution_count": 14
        }
      ]
    },
    {
      "cell_type": "code",
      "metadata": {
        "id": "NpvTMfUi2RvW",
        "colab_type": "code",
        "outputId": "ff8332c1-2fa1-4774-c285-ba28bd16c83c",
        "colab": {
          "base_uri": "https://localhost:8080/",
          "height": 3060
        }
      },
      "source": [
        "from nltk.corpus import stopwords\n",
        "\n",
        "stop_words = set(stopwords.words(\"english\"))\n",
        "stop_words"
      ],
      "execution_count": 0,
      "outputs": [
        {
          "output_type": "execute_result",
          "data": {
            "text/plain": [
              "{'a',\n",
              " 'about',\n",
              " 'above',\n",
              " 'after',\n",
              " 'again',\n",
              " 'against',\n",
              " 'ain',\n",
              " 'all',\n",
              " 'am',\n",
              " 'an',\n",
              " 'and',\n",
              " 'any',\n",
              " 'are',\n",
              " 'aren',\n",
              " \"aren't\",\n",
              " 'as',\n",
              " 'at',\n",
              " 'be',\n",
              " 'because',\n",
              " 'been',\n",
              " 'before',\n",
              " 'being',\n",
              " 'below',\n",
              " 'between',\n",
              " 'both',\n",
              " 'but',\n",
              " 'by',\n",
              " 'can',\n",
              " 'couldn',\n",
              " \"couldn't\",\n",
              " 'd',\n",
              " 'did',\n",
              " 'didn',\n",
              " \"didn't\",\n",
              " 'do',\n",
              " 'does',\n",
              " 'doesn',\n",
              " \"doesn't\",\n",
              " 'doing',\n",
              " 'don',\n",
              " \"don't\",\n",
              " 'down',\n",
              " 'during',\n",
              " 'each',\n",
              " 'few',\n",
              " 'for',\n",
              " 'from',\n",
              " 'further',\n",
              " 'had',\n",
              " 'hadn',\n",
              " \"hadn't\",\n",
              " 'has',\n",
              " 'hasn',\n",
              " \"hasn't\",\n",
              " 'have',\n",
              " 'haven',\n",
              " \"haven't\",\n",
              " 'having',\n",
              " 'he',\n",
              " 'her',\n",
              " 'here',\n",
              " 'hers',\n",
              " 'herself',\n",
              " 'him',\n",
              " 'himself',\n",
              " 'his',\n",
              " 'how',\n",
              " 'i',\n",
              " 'if',\n",
              " 'in',\n",
              " 'into',\n",
              " 'is',\n",
              " 'isn',\n",
              " \"isn't\",\n",
              " 'it',\n",
              " \"it's\",\n",
              " 'its',\n",
              " 'itself',\n",
              " 'just',\n",
              " 'll',\n",
              " 'm',\n",
              " 'ma',\n",
              " 'me',\n",
              " 'mightn',\n",
              " \"mightn't\",\n",
              " 'more',\n",
              " 'most',\n",
              " 'mustn',\n",
              " \"mustn't\",\n",
              " 'my',\n",
              " 'myself',\n",
              " 'needn',\n",
              " \"needn't\",\n",
              " 'no',\n",
              " 'nor',\n",
              " 'not',\n",
              " 'now',\n",
              " 'o',\n",
              " 'of',\n",
              " 'off',\n",
              " 'on',\n",
              " 'once',\n",
              " 'only',\n",
              " 'or',\n",
              " 'other',\n",
              " 'our',\n",
              " 'ours',\n",
              " 'ourselves',\n",
              " 'out',\n",
              " 'over',\n",
              " 'own',\n",
              " 're',\n",
              " 's',\n",
              " 'same',\n",
              " 'shan',\n",
              " \"shan't\",\n",
              " 'she',\n",
              " \"she's\",\n",
              " 'should',\n",
              " \"should've\",\n",
              " 'shouldn',\n",
              " \"shouldn't\",\n",
              " 'so',\n",
              " 'some',\n",
              " 'such',\n",
              " 't',\n",
              " 'than',\n",
              " 'that',\n",
              " \"that'll\",\n",
              " 'the',\n",
              " 'their',\n",
              " 'theirs',\n",
              " 'them',\n",
              " 'themselves',\n",
              " 'then',\n",
              " 'there',\n",
              " 'these',\n",
              " 'they',\n",
              " 'this',\n",
              " 'those',\n",
              " 'through',\n",
              " 'to',\n",
              " 'too',\n",
              " 'under',\n",
              " 'until',\n",
              " 'up',\n",
              " 've',\n",
              " 'very',\n",
              " 'was',\n",
              " 'wasn',\n",
              " \"wasn't\",\n",
              " 'we',\n",
              " 'were',\n",
              " 'weren',\n",
              " \"weren't\",\n",
              " 'what',\n",
              " 'when',\n",
              " 'where',\n",
              " 'which',\n",
              " 'while',\n",
              " 'who',\n",
              " 'whom',\n",
              " 'why',\n",
              " 'will',\n",
              " 'with',\n",
              " 'won',\n",
              " \"won't\",\n",
              " 'wouldn',\n",
              " \"wouldn't\",\n",
              " 'y',\n",
              " 'you',\n",
              " \"you'd\",\n",
              " \"you'll\",\n",
              " \"you're\",\n",
              " \"you've\",\n",
              " 'your',\n",
              " 'yours',\n",
              " 'yourself',\n",
              " 'yourselves'}"
            ]
          },
          "metadata": {
            "tags": []
          },
          "execution_count": 15
        }
      ]
    },
    {
      "cell_type": "code",
      "metadata": {
        "id": "I5iaSxNR2hwT",
        "colab_type": "code",
        "outputId": "8beda17c-769e-4cfd-9864-92b1d6b96269",
        "colab": {
          "base_uri": "https://localhost:8080/",
          "height": 357
        }
      },
      "source": [
        "filtered_word = []\n",
        "\n",
        "for w in tokenized_words:\n",
        "    if w not in stop_words:\n",
        "        filtered_word.append(w)\n",
        "\n",
        "filtered_word"
      ],
      "execution_count": 0,
      "outputs": [
        {
          "output_type": "execute_result",
          "data": {
            "text/plain": [
              "['Hello',\n",
              " ',',\n",
              " 'Mr.',\n",
              " 'Smith',\n",
              " ',',\n",
              " 'today',\n",
              " '?',\n",
              " 'weather',\n",
              " 'great',\n",
              " 'city',\n",
              " 'awesome',\n",
              " '.',\n",
              " 'The',\n",
              " 'sky',\n",
              " 'pinkish-blue',\n",
              " '.',\n",
              " 'You',\n",
              " \"n't\",\n",
              " 'eat',\n",
              " 'cardboard']"
            ]
          },
          "metadata": {
            "tags": []
          },
          "execution_count": 16
        }
      ]
    },
    {
      "cell_type": "markdown",
      "metadata": {
        "id": "ke-WG8RvIbGL",
        "colab_type": "text"
      },
      "source": [
        "## Excercise 2"
      ]
    },
    {
      "cell_type": "code",
      "metadata": {
        "id": "ZFeA1gR93WQ-",
        "colab_type": "code",
        "outputId": "68a91b87-f9cb-4ae2-f5b4-3cc5ab576d2a",
        "colab": {
          "base_uri": "https://localhost:8080/",
          "height": 54
        }
      },
      "source": [
        "def remove_sent(text):\n",
        "    sword = []\n",
        "\n",
        "    for sent in sent_tokenize(text):\n",
        "        sent = word_tokenize(sent)\n",
        "        # print(sent)\n",
        "        nsent = []\n",
        "        for w in sent:\n",
        "            if w not in stop_words:\n",
        "                nsent.append(w)\n",
        "                \n",
        "        # print()\n",
        "        sword.append(\" \".join(nsent))    \n",
        "    return sword\n",
        "\n",
        "sword = remove_sent(text)\n",
        "print(sword)"
      ],
      "execution_count": 0,
      "outputs": [
        {
          "output_type": "stream",
          "text": [
            "['Hello , Mr. Smith , today ?', 'weather great city awesome .', 'The sky pinkish-blue .', \"You n't eat cardboard\"]\n"
          ],
          "name": "stdout"
        }
      ]
    },
    {
      "cell_type": "code",
      "metadata": {
        "id": "CzaSqEPC_CnD",
        "colab_type": "code",
        "outputId": "55eecac3-7cbc-4718-e3fd-db64ba1bf34d",
        "colab": {
          "base_uri": "https://localhost:8080/",
          "height": 85
        }
      },
      "source": [
        "nltk.download(\"averaged_perceptron_tagger\")"
      ],
      "execution_count": 0,
      "outputs": [
        {
          "output_type": "stream",
          "text": [
            "[nltk_data] Downloading package averaged_perceptron_tagger to\n",
            "[nltk_data]     /root/nltk_data...\n",
            "[nltk_data]   Unzipping taggers/averaged_perceptron_tagger.zip.\n"
          ],
          "name": "stdout"
        },
        {
          "output_type": "execute_result",
          "data": {
            "text/plain": [
              "True"
            ]
          },
          "metadata": {
            "tags": []
          },
          "execution_count": 18
        }
      ]
    },
    {
      "cell_type": "code",
      "metadata": {
        "id": "bVqcsCSNIGsj",
        "colab_type": "code",
        "outputId": "4d162dbe-3b57-403d-ac11-1a6ad1fa5980",
        "colab": {
          "base_uri": "https://localhost:8080/",
          "height": 527
        }
      },
      "source": [
        "nltk.pos_tag(tokenized_words)"
      ],
      "execution_count": 0,
      "outputs": [
        {
          "output_type": "execute_result",
          "data": {
            "text/plain": [
              "[('Hello', 'NNP'),\n",
              " (',', ','),\n",
              " ('Mr.', 'NNP'),\n",
              " ('Smith', 'NNP'),\n",
              " (',', ','),\n",
              " ('how', 'WRB'),\n",
              " ('are', 'VBP'),\n",
              " ('you', 'PRP'),\n",
              " ('doing', 'VBG'),\n",
              " ('today', 'NN'),\n",
              " ('?', '.'),\n",
              " ('the', 'DT'),\n",
              " ('weather', 'NN'),\n",
              " ('is', 'VBZ'),\n",
              " ('great', 'JJ'),\n",
              " ('and', 'CC'),\n",
              " ('city', 'NN'),\n",
              " ('is', 'VBZ'),\n",
              " ('awesome', 'JJ'),\n",
              " ('.', '.'),\n",
              " ('The', 'DT'),\n",
              " ('sky', 'NN'),\n",
              " ('is', 'VBZ'),\n",
              " ('pinkish-blue', 'JJ'),\n",
              " ('.', '.'),\n",
              " ('You', 'PRP'),\n",
              " ('should', 'MD'),\n",
              " (\"n't\", 'RB'),\n",
              " ('eat', 'VB'),\n",
              " ('cardboard', 'NN')]"
            ]
          },
          "metadata": {
            "tags": []
          },
          "execution_count": 19
        }
      ]
    },
    {
      "cell_type": "code",
      "metadata": {
        "id": "yj8WDfWgJogd",
        "colab_type": "code",
        "outputId": "35429833-ea72-49ed-f843-71b2ce5da2a8",
        "colab": {
          "base_uri": "https://localhost:8080/",
          "height": 85
        }
      },
      "source": [
        "def filtered_sent3(tok_text):\n",
        "    tags = ['NN', 'NNP', 'VBP', 'VBZ', 'VBG', 'JJ']\n",
        "    pos_tagged = dict(nltk.pos_tag(word_tokenize(tok_text)))\n",
        "\n",
        "    filt = []\n",
        "    for y in pos_tagged:\n",
        "        if pos_tagged[y] in tags:\n",
        "            filt.append(y)\n",
        "    return filt\n",
        "\n",
        "filted_sent3 = []\n",
        "\n",
        "for text in tokenized_text:\n",
        "    filted_sent3.append(filtered_sent3(text))\n",
        "\n",
        "filted_sent3"
      ],
      "execution_count": 0,
      "outputs": [
        {
          "output_type": "execute_result",
          "data": {
            "text/plain": [
              "[['Hello', 'Mr.', 'Smith', 'are', 'doing', 'today'],\n",
              " ['weather', 'is', 'great', 'city', 'awesome'],\n",
              " ['sky', 'is', 'pinkish-blue'],\n",
              " ['cardboard']]"
            ]
          },
          "metadata": {
            "tags": []
          },
          "execution_count": 20
        }
      ]
    },
    {
      "cell_type": "markdown",
      "metadata": {
        "id": "fQU1XcRFKgHd",
        "colab_type": "text"
      },
      "source": [
        "## Wordnet"
      ]
    },
    {
      "cell_type": "code",
      "metadata": {
        "id": "xc908fZ4JPBQ",
        "colab_type": "code",
        "outputId": "ffe51012-dca0-404d-d298-a9c4a5633f79",
        "colab": {
          "base_uri": "https://localhost:8080/",
          "height": 68
        }
      },
      "source": [
        "nltk.download('wordnet')"
      ],
      "execution_count": 0,
      "outputs": [
        {
          "output_type": "stream",
          "text": [
            "[nltk_data] Downloading package wordnet to /root/nltk_data...\n",
            "[nltk_data]   Unzipping corpora/wordnet.zip.\n"
          ],
          "name": "stdout"
        },
        {
          "output_type": "execute_result",
          "data": {
            "text/plain": [
              "True"
            ]
          },
          "metadata": {
            "tags": []
          },
          "execution_count": 21
        }
      ]
    },
    {
      "cell_type": "code",
      "metadata": {
        "id": "QEzAH2RyKkkh",
        "colab_type": "code",
        "outputId": "ad3fd9b0-76a0-49d2-c71b-913ddce35f3c",
        "colab": {
          "base_uri": "https://localhost:8080/",
          "height": 51
        }
      },
      "source": [
        "from nltk.stem.wordnet import WordNetLemmatizer\n",
        "\n",
        "lem = WordNetLemmatizer()\n",
        "\n",
        "\n",
        "\n",
        "from nltk.stem.porter import PorterStemmer\n",
        "\n",
        "stem = PorterStemmer()\n",
        "\n",
        "word = 'flying'\n",
        "\n",
        "print(\"Lemmatization of word\",lem.lemmatize(word,'v'))\n",
        "print(\"Stemming of word\",stem.stem(word))"
      ],
      "execution_count": 0,
      "outputs": [
        {
          "output_type": "stream",
          "text": [
            "Lemmatization of word fly\n",
            "Stemming of word fli\n"
          ],
          "name": "stdout"
        }
      ]
    },
    {
      "cell_type": "code",
      "metadata": {
        "id": "YxsDEyWYLYJF",
        "colab_type": "code",
        "colab": {}
      },
      "source": [
        "text2 = \"Based on these preliminary experiments, we decided  to  limit  the  final  evaluation  on  the  unseen test set to the logistic regression model, as its probability prediction allows us to rank chiasmi easily.In addition, its linear implementation allows us toobserve the learned feature weights and comparethem to those of the earlier hand-tuned systems.For the linear logistic regression implementationwe used scikit-learn (Pedregosa et al., 2011)\""
      ],
      "execution_count": 0,
      "outputs": []
    },
    {
      "cell_type": "code",
      "metadata": {
        "id": "aLJwva-oMLPi",
        "colab_type": "code",
        "colab": {}
      },
      "source": [
        "pattern = 'NP: {<DT>?<JJ>*<NN>}'"
      ],
      "execution_count": 0,
      "outputs": []
    },
    {
      "cell_type": "code",
      "metadata": {
        "id": "p2eQmY07QZkD",
        "colab_type": "code",
        "colab": {}
      },
      "source": [
        "cp = nltk.RegexpParser(pattern)"
      ],
      "execution_count": 0,
      "outputs": []
    },
    {
      "cell_type": "code",
      "metadata": {
        "id": "FoYDScVVR3ow",
        "colab_type": "code",
        "colab": {}
      },
      "source": [
        "cs = cp.parse(nltk.pos_tag(nltk.word_tokenize(text2)))"
      ],
      "execution_count": 0,
      "outputs": []
    },
    {
      "cell_type": "code",
      "metadata": {
        "id": "McnX-STIR_gQ",
        "colab_type": "code",
        "outputId": "e5e5c11a-e67c-4427-c32c-f48ed7704009",
        "colab": {
          "base_uri": "https://localhost:8080/",
          "height": 969
        }
      },
      "source": [
        "print(cs)"
      ],
      "execution_count": 0,
      "outputs": [
        {
          "output_type": "stream",
          "text": [
            "(S\n",
            "  Based/VBN\n",
            "  on/IN\n",
            "  these/DT\n",
            "  preliminary/JJ\n",
            "  experiments/NNS\n",
            "  ,/,\n",
            "  we/PRP\n",
            "  decided/VBD\n",
            "  to/TO\n",
            "  limit/VB\n",
            "  (NP the/DT final/JJ evaluation/NN)\n",
            "  on/IN\n",
            "  (NP the/DT unseen/JJ test/NN)\n",
            "  set/VBN\n",
            "  to/TO\n",
            "  (NP the/DT logistic/JJ regression/NN)\n",
            "  (NP model/NN)\n",
            "  ,/,\n",
            "  as/IN\n",
            "  its/PRP$\n",
            "  (NP probability/NN)\n",
            "  (NP prediction/NN)\n",
            "  allows/VBZ\n",
            "  us/PRP\n",
            "  to/TO\n",
            "  rank/VB\n",
            "  (NP chiasmi/JJ easily.In/NN)\n",
            "  (NP addition/NN)\n",
            "  ,/,\n",
            "  its/PRP$\n",
            "  (NP linear/JJ implementation/NN)\n",
            "  allows/VBZ\n",
            "  us/PRP\n",
            "  toobserve/VB\n",
            "  (NP the/DT learned/JJ feature/NN)\n",
            "  weights/NNS\n",
            "  and/CC\n",
            "  (NP comparethem/NN)\n",
            "  to/TO\n",
            "  those/DT\n",
            "  of/IN\n",
            "  the/DT\n",
            "  earlier/JJR\n",
            "  (NP hand-tuned/JJ systems.For/NN)\n",
            "  (NP the/DT linear/JJ logistic/JJ regression/NN)\n",
            "  (NP implementationwe/NN)\n",
            "  used/VBN\n",
            "  (NP scikit-learn/NN)\n",
            "  (/(\n",
            "  Pedregosa/NNP\n",
            "  et/RB\n",
            "  al./RB\n",
            "  ,/,\n",
            "  2011/CD\n",
            "  )/))\n"
          ],
          "name": "stdout"
        }
      ]
    },
    {
      "cell_type": "markdown",
      "metadata": {
        "id": "zTbXLMkB9FWi",
        "colab_type": "text"
      },
      "source": [
        "## IOB Tag"
      ]
    },
    {
      "cell_type": "code",
      "metadata": {
        "id": "H3j8LcihSGTq",
        "colab_type": "code",
        "outputId": "10fb034e-2b2e-4eb7-aa64-35aa2cfdaa29",
        "colab": {
          "base_uri": "https://localhost:8080/",
          "height": 1190
        }
      },
      "source": [
        "from nltk.chunk import conlltags2tree, tree2conlltags\n",
        "from pprint import pprint\n",
        "\n",
        "iob_tagged = tree2conlltags(cs)\n",
        "pprint(iob_tagged)"
      ],
      "execution_count": 0,
      "outputs": [
        {
          "output_type": "stream",
          "text": [
            "[('Based', 'VBN', 'O'),\n",
            " ('on', 'IN', 'O'),\n",
            " ('these', 'DT', 'O'),\n",
            " ('preliminary', 'JJ', 'O'),\n",
            " ('experiments', 'NNS', 'O'),\n",
            " (',', ',', 'O'),\n",
            " ('we', 'PRP', 'O'),\n",
            " ('decided', 'VBD', 'O'),\n",
            " ('to', 'TO', 'O'),\n",
            " ('limit', 'VB', 'O'),\n",
            " ('the', 'DT', 'B-NP'),\n",
            " ('final', 'JJ', 'I-NP'),\n",
            " ('evaluation', 'NN', 'I-NP'),\n",
            " ('on', 'IN', 'O'),\n",
            " ('the', 'DT', 'B-NP'),\n",
            " ('unseen', 'JJ', 'I-NP'),\n",
            " ('test', 'NN', 'I-NP'),\n",
            " ('set', 'VBN', 'O'),\n",
            " ('to', 'TO', 'O'),\n",
            " ('the', 'DT', 'B-NP'),\n",
            " ('logistic', 'JJ', 'I-NP'),\n",
            " ('regression', 'NN', 'I-NP'),\n",
            " ('model', 'NN', 'B-NP'),\n",
            " (',', ',', 'O'),\n",
            " ('as', 'IN', 'O'),\n",
            " ('its', 'PRP$', 'O'),\n",
            " ('probability', 'NN', 'B-NP'),\n",
            " ('prediction', 'NN', 'B-NP'),\n",
            " ('allows', 'VBZ', 'O'),\n",
            " ('us', 'PRP', 'O'),\n",
            " ('to', 'TO', 'O'),\n",
            " ('rank', 'VB', 'O'),\n",
            " ('chiasmi', 'JJ', 'B-NP'),\n",
            " ('easily.In', 'NN', 'I-NP'),\n",
            " ('addition', 'NN', 'B-NP'),\n",
            " (',', ',', 'O'),\n",
            " ('its', 'PRP$', 'O'),\n",
            " ('linear', 'JJ', 'B-NP'),\n",
            " ('implementation', 'NN', 'I-NP'),\n",
            " ('allows', 'VBZ', 'O'),\n",
            " ('us', 'PRP', 'O'),\n",
            " ('toobserve', 'VB', 'O'),\n",
            " ('the', 'DT', 'B-NP'),\n",
            " ('learned', 'JJ', 'I-NP'),\n",
            " ('feature', 'NN', 'I-NP'),\n",
            " ('weights', 'NNS', 'O'),\n",
            " ('and', 'CC', 'O'),\n",
            " ('comparethem', 'NN', 'B-NP'),\n",
            " ('to', 'TO', 'O'),\n",
            " ('those', 'DT', 'O'),\n",
            " ('of', 'IN', 'O'),\n",
            " ('the', 'DT', 'O'),\n",
            " ('earlier', 'JJR', 'O'),\n",
            " ('hand-tuned', 'JJ', 'B-NP'),\n",
            " ('systems.For', 'NN', 'I-NP'),\n",
            " ('the', 'DT', 'B-NP'),\n",
            " ('linear', 'JJ', 'I-NP'),\n",
            " ('logistic', 'JJ', 'I-NP'),\n",
            " ('regression', 'NN', 'I-NP'),\n",
            " ('implementationwe', 'NN', 'B-NP'),\n",
            " ('used', 'VBN', 'O'),\n",
            " ('scikit-learn', 'NN', 'B-NP'),\n",
            " ('(', '(', 'O'),\n",
            " ('Pedregosa', 'NNP', 'O'),\n",
            " ('et', 'RB', 'O'),\n",
            " ('al.', 'RB', 'O'),\n",
            " (',', ',', 'O'),\n",
            " ('2011', 'CD', 'O'),\n",
            " (')', ')', 'O')]\n"
          ],
          "name": "stdout"
        }
      ]
    },
    {
      "cell_type": "markdown",
      "metadata": {
        "id": "R94t4DPy-BOH",
        "colab_type": "text"
      },
      "source": [
        "## Named Entity Tagger"
      ]
    },
    {
      "cell_type": "code",
      "metadata": {
        "id": "kpBJThGPDWcQ",
        "colab_type": "code",
        "outputId": "1fa73442-de99-4c22-899e-7f1225980726",
        "colab": {
          "base_uri": "https://localhost:8080/",
          "height": 119
        }
      },
      "source": [
        "nltk.download('maxent_ne_chunker')\n",
        "nltk.download('words')"
      ],
      "execution_count": 0,
      "outputs": [
        {
          "output_type": "stream",
          "text": [
            "[nltk_data] Downloading package maxent_ne_chunker to\n",
            "[nltk_data]     /root/nltk_data...\n",
            "[nltk_data]   Package maxent_ne_chunker is already up-to-date!\n",
            "[nltk_data] Downloading package words to /root/nltk_data...\n",
            "[nltk_data]   Unzipping corpora/words.zip.\n"
          ],
          "name": "stdout"
        },
        {
          "output_type": "execute_result",
          "data": {
            "text/plain": [
              "True"
            ]
          },
          "metadata": {
            "tags": []
          },
          "execution_count": 34
        }
      ]
    },
    {
      "cell_type": "code",
      "metadata": {
        "id": "__jixuwL9_LT",
        "colab_type": "code",
        "colab": {}
      },
      "source": [
        "text3 = \"Joko Widodo went to Bandung\"\n",
        "\n",
        "sentences = nltk.sent_tokenize(text3)\n",
        "sentences = [nltk.word_tokenize(sent) for sent in sentences]\n",
        "sentences = [nltk.pos_tag(sent) for sent in sentences]\n",
        "tree = [nltk.ne_chunk(sent) for sent in sentences]"
      ],
      "execution_count": 0,
      "outputs": []
    },
    {
      "cell_type": "code",
      "metadata": {
        "id": "CgvEqEBB-3oE",
        "colab_type": "code",
        "outputId": "7b224f02-1789-41e6-c830-7bfe597f33c3",
        "colab": {
          "base_uri": "https://localhost:8080/",
          "height": 102
        }
      },
      "source": [
        "sentences"
      ],
      "execution_count": 0,
      "outputs": [
        {
          "output_type": "execute_result",
          "data": {
            "text/plain": [
              "[[('Joko', 'NNP'),\n",
              "  ('Widodo', 'NNP'),\n",
              "  ('went', 'VBD'),\n",
              "  ('to', 'TO'),\n",
              "  ('Bandung', 'NNP')]]"
            ]
          },
          "metadata": {
            "tags": []
          },
          "execution_count": 36
        }
      ]
    },
    {
      "cell_type": "code",
      "metadata": {
        "id": "qJKPpmqL-5hS",
        "colab_type": "code",
        "outputId": "1acb788d-04cd-48e6-b718-db3f52575ed4",
        "colab": {
          "base_uri": "https://localhost:8080/",
          "height": 54
        }
      },
      "source": [
        "pprint(tree)"
      ],
      "execution_count": 0,
      "outputs": [
        {
          "output_type": "stream",
          "text": [
            "[Tree('S', [Tree('PERSON', [('Joko', 'NNP')]), Tree('PERSON', [('Widodo', 'NNP')]), ('went', 'VBD'), ('to', 'TO'), Tree('GPE', [('Bandung', 'NNP')])])]\n"
          ],
          "name": "stdout"
        }
      ]
    },
    {
      "cell_type": "code",
      "metadata": {
        "id": "vFMySYSR_dOV",
        "colab_type": "code",
        "colab": {}
      },
      "source": [
        "entity_names = []\n",
        "\n",
        "for sent in nltk.sent_tokenize(text):\n",
        "    for chunk in nltk.ne_chunk(nltk.pos_tag(nltk.word_tokenize(sent))):\n",
        "        if hasattr(chunk, 'label') == 'PERSON':\n",
        "            name_value = ' '.join(child[0] for child in chuck.level())\n",
        "            if name_value not in entity_names:\n",
        "                entitiy_names.append(name_value)"
      ],
      "execution_count": 0,
      "outputs": []
    },
    {
      "cell_type": "code",
      "metadata": {
        "id": "YJ8izfXaBPDY",
        "colab_type": "code",
        "outputId": "a5ab733e-aec6-4185-96e7-6ed110a1cb1d",
        "colab": {
          "base_uri": "https://localhost:8080/",
          "height": 34
        }
      },
      "source": [
        "entity_names"
      ],
      "execution_count": 0,
      "outputs": [
        {
          "output_type": "execute_result",
          "data": {
            "text/plain": [
              "[]"
            ]
          },
          "metadata": {
            "tags": []
          },
          "execution_count": 41
        }
      ]
    },
    {
      "cell_type": "markdown",
      "metadata": {
        "id": "EgTdhBJp_Up8",
        "colab_type": "text"
      },
      "source": [
        "## Parser"
      ]
    },
    {
      "cell_type": "code",
      "metadata": {
        "id": "PXCxBF6HBSbr",
        "colab_type": "code",
        "colab": {}
      },
      "source": [
        "grammar = nltk.CFG.fromstring(\"\"\"\n",
        "S -> NP VP\n",
        "PP -> P NP\n",
        "NP -> Det N | Det N PP | 'I'\n",
        "Det -> 'an' | 'my'\n",
        "N -> 'elephant' | 'pajamas'\n",
        "V -> 'shot'\n",
        "P -> 'in'\n",
        "\"\"\")"
      ],
      "execution_count": 0,
      "outputs": []
    },
    {
      "cell_type": "code",
      "metadata": {
        "id": "IGN6khpyC5e0",
        "colab_type": "code",
        "colab": {}
      },
      "source": [
        "sent = ['I', 'shot', 'an','elephant','in','my','pajamas']\n",
        "parser = nltk.ChartParser(grammar)\n",
        "for tree in parser.parse(sent):\n",
        "    print(tree)"
      ],
      "execution_count": 0,
      "outputs": []
    }
  ]
}