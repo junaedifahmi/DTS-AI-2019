{
  "nbformat": 4,
  "nbformat_minor": 0,
  "metadata": {
    "colab": {
      "name": "D18_JunaediFahmi.ipynb",
      "version": "0.3.2",
      "provenance": [],
      "collapsed_sections": [],
      "toc_visible": true,
      "include_colab_link": true
    },
    "kernelspec": {
      "name": "python3",
      "display_name": "Python 3"
    }
  },
  "cells": [
    {
      "cell_type": "markdown",
      "metadata": {
        "id": "view-in-github",
        "colab_type": "text"
      },
      "source": [
        "<a href=\"https://colab.research.google.com/github/juunnn/DTSAI2019/blob/master/D18_JunaediFahmi.ipynb\" target=\"_parent\"><img src=\"https://colab.research.google.com/assets/colab-badge.svg\" alt=\"Open In Colab\"/></a>"
      ]
    },
    {
      "cell_type": "markdown",
      "metadata": {
        "id": "lAY1e1mNLran",
        "colab_type": "text"
      },
      "source": [
        "# Principal Component Analysis\n",
        "\n",
        "---\n",
        "\n"
      ]
    },
    {
      "cell_type": "code",
      "metadata": {
        "id": "v2jOJ0PzzE7-",
        "colab_type": "code",
        "outputId": "d547d7b4-8522-4c70-f183-ceb35bda90e2",
        "colab": {
          "base_uri": "https://localhost:8080/",
          "height": 258
        }
      },
      "source": [
        "from sklearn.datasets import load_breast_cancer\n",
        "import numpy as np\n",
        "import pandas as pd\n",
        "\n",
        "bc = load_breast_cancer()\n",
        "data = bc.data\n",
        "labels = np.reshape(bc.target, (569,1))\n",
        "features = bc.feature_names\n",
        "features_labels = np.append(features,'label')\n",
        "final_data = np.concatenate([data,labels],axis=1)\n",
        "df = pd.DataFrame(final_data)\n",
        "df.columns = features_labels\n",
        "df['label'].replace(0, 'Benign',inplace=True)\n",
        "df['label'].replace(1, 'Malignant',inplace=True)\n",
        "\n",
        "df.head()"
      ],
      "execution_count": 0,
      "outputs": [
        {
          "output_type": "execute_result",
          "data": {
            "text/html": [
              "<div>\n",
              "<style scoped>\n",
              "    .dataframe tbody tr th:only-of-type {\n",
              "        vertical-align: middle;\n",
              "    }\n",
              "\n",
              "    .dataframe tbody tr th {\n",
              "        vertical-align: top;\n",
              "    }\n",
              "\n",
              "    .dataframe thead th {\n",
              "        text-align: right;\n",
              "    }\n",
              "</style>\n",
              "<table border=\"1\" class=\"dataframe\">\n",
              "  <thead>\n",
              "    <tr style=\"text-align: right;\">\n",
              "      <th></th>\n",
              "      <th>mean radius</th>\n",
              "      <th>mean texture</th>\n",
              "      <th>mean perimeter</th>\n",
              "      <th>mean area</th>\n",
              "      <th>mean smoothness</th>\n",
              "      <th>mean compactness</th>\n",
              "      <th>mean concavity</th>\n",
              "      <th>mean concave points</th>\n",
              "      <th>mean symmetry</th>\n",
              "      <th>mean fractal dimension</th>\n",
              "      <th>radius error</th>\n",
              "      <th>texture error</th>\n",
              "      <th>perimeter error</th>\n",
              "      <th>area error</th>\n",
              "      <th>smoothness error</th>\n",
              "      <th>compactness error</th>\n",
              "      <th>concavity error</th>\n",
              "      <th>concave points error</th>\n",
              "      <th>symmetry error</th>\n",
              "      <th>fractal dimension error</th>\n",
              "      <th>worst radius</th>\n",
              "      <th>worst texture</th>\n",
              "      <th>worst perimeter</th>\n",
              "      <th>worst area</th>\n",
              "      <th>worst smoothness</th>\n",
              "      <th>worst compactness</th>\n",
              "      <th>worst concavity</th>\n",
              "      <th>worst concave points</th>\n",
              "      <th>worst symmetry</th>\n",
              "      <th>worst fractal dimension</th>\n",
              "      <th>label</th>\n",
              "    </tr>\n",
              "  </thead>\n",
              "  <tbody>\n",
              "    <tr>\n",
              "      <th>0</th>\n",
              "      <td>17.99</td>\n",
              "      <td>10.38</td>\n",
              "      <td>122.80</td>\n",
              "      <td>1001.0</td>\n",
              "      <td>0.11840</td>\n",
              "      <td>0.27760</td>\n",
              "      <td>0.3001</td>\n",
              "      <td>0.14710</td>\n",
              "      <td>0.2419</td>\n",
              "      <td>0.07871</td>\n",
              "      <td>1.0950</td>\n",
              "      <td>0.9053</td>\n",
              "      <td>8.589</td>\n",
              "      <td>153.40</td>\n",
              "      <td>0.006399</td>\n",
              "      <td>0.04904</td>\n",
              "      <td>0.05373</td>\n",
              "      <td>0.01587</td>\n",
              "      <td>0.03003</td>\n",
              "      <td>0.006193</td>\n",
              "      <td>25.38</td>\n",
              "      <td>17.33</td>\n",
              "      <td>184.60</td>\n",
              "      <td>2019.0</td>\n",
              "      <td>0.1622</td>\n",
              "      <td>0.6656</td>\n",
              "      <td>0.7119</td>\n",
              "      <td>0.2654</td>\n",
              "      <td>0.4601</td>\n",
              "      <td>0.11890</td>\n",
              "      <td>Benign</td>\n",
              "    </tr>\n",
              "    <tr>\n",
              "      <th>1</th>\n",
              "      <td>20.57</td>\n",
              "      <td>17.77</td>\n",
              "      <td>132.90</td>\n",
              "      <td>1326.0</td>\n",
              "      <td>0.08474</td>\n",
              "      <td>0.07864</td>\n",
              "      <td>0.0869</td>\n",
              "      <td>0.07017</td>\n",
              "      <td>0.1812</td>\n",
              "      <td>0.05667</td>\n",
              "      <td>0.5435</td>\n",
              "      <td>0.7339</td>\n",
              "      <td>3.398</td>\n",
              "      <td>74.08</td>\n",
              "      <td>0.005225</td>\n",
              "      <td>0.01308</td>\n",
              "      <td>0.01860</td>\n",
              "      <td>0.01340</td>\n",
              "      <td>0.01389</td>\n",
              "      <td>0.003532</td>\n",
              "      <td>24.99</td>\n",
              "      <td>23.41</td>\n",
              "      <td>158.80</td>\n",
              "      <td>1956.0</td>\n",
              "      <td>0.1238</td>\n",
              "      <td>0.1866</td>\n",
              "      <td>0.2416</td>\n",
              "      <td>0.1860</td>\n",
              "      <td>0.2750</td>\n",
              "      <td>0.08902</td>\n",
              "      <td>Benign</td>\n",
              "    </tr>\n",
              "    <tr>\n",
              "      <th>2</th>\n",
              "      <td>19.69</td>\n",
              "      <td>21.25</td>\n",
              "      <td>130.00</td>\n",
              "      <td>1203.0</td>\n",
              "      <td>0.10960</td>\n",
              "      <td>0.15990</td>\n",
              "      <td>0.1974</td>\n",
              "      <td>0.12790</td>\n",
              "      <td>0.2069</td>\n",
              "      <td>0.05999</td>\n",
              "      <td>0.7456</td>\n",
              "      <td>0.7869</td>\n",
              "      <td>4.585</td>\n",
              "      <td>94.03</td>\n",
              "      <td>0.006150</td>\n",
              "      <td>0.04006</td>\n",
              "      <td>0.03832</td>\n",
              "      <td>0.02058</td>\n",
              "      <td>0.02250</td>\n",
              "      <td>0.004571</td>\n",
              "      <td>23.57</td>\n",
              "      <td>25.53</td>\n",
              "      <td>152.50</td>\n",
              "      <td>1709.0</td>\n",
              "      <td>0.1444</td>\n",
              "      <td>0.4245</td>\n",
              "      <td>0.4504</td>\n",
              "      <td>0.2430</td>\n",
              "      <td>0.3613</td>\n",
              "      <td>0.08758</td>\n",
              "      <td>Benign</td>\n",
              "    </tr>\n",
              "    <tr>\n",
              "      <th>3</th>\n",
              "      <td>11.42</td>\n",
              "      <td>20.38</td>\n",
              "      <td>77.58</td>\n",
              "      <td>386.1</td>\n",
              "      <td>0.14250</td>\n",
              "      <td>0.28390</td>\n",
              "      <td>0.2414</td>\n",
              "      <td>0.10520</td>\n",
              "      <td>0.2597</td>\n",
              "      <td>0.09744</td>\n",
              "      <td>0.4956</td>\n",
              "      <td>1.1560</td>\n",
              "      <td>3.445</td>\n",
              "      <td>27.23</td>\n",
              "      <td>0.009110</td>\n",
              "      <td>0.07458</td>\n",
              "      <td>0.05661</td>\n",
              "      <td>0.01867</td>\n",
              "      <td>0.05963</td>\n",
              "      <td>0.009208</td>\n",
              "      <td>14.91</td>\n",
              "      <td>26.50</td>\n",
              "      <td>98.87</td>\n",
              "      <td>567.7</td>\n",
              "      <td>0.2098</td>\n",
              "      <td>0.8663</td>\n",
              "      <td>0.6869</td>\n",
              "      <td>0.2575</td>\n",
              "      <td>0.6638</td>\n",
              "      <td>0.17300</td>\n",
              "      <td>Benign</td>\n",
              "    </tr>\n",
              "    <tr>\n",
              "      <th>4</th>\n",
              "      <td>20.29</td>\n",
              "      <td>14.34</td>\n",
              "      <td>135.10</td>\n",
              "      <td>1297.0</td>\n",
              "      <td>0.10030</td>\n",
              "      <td>0.13280</td>\n",
              "      <td>0.1980</td>\n",
              "      <td>0.10430</td>\n",
              "      <td>0.1809</td>\n",
              "      <td>0.05883</td>\n",
              "      <td>0.7572</td>\n",
              "      <td>0.7813</td>\n",
              "      <td>5.438</td>\n",
              "      <td>94.44</td>\n",
              "      <td>0.011490</td>\n",
              "      <td>0.02461</td>\n",
              "      <td>0.05688</td>\n",
              "      <td>0.01885</td>\n",
              "      <td>0.01756</td>\n",
              "      <td>0.005115</td>\n",
              "      <td>22.54</td>\n",
              "      <td>16.67</td>\n",
              "      <td>152.20</td>\n",
              "      <td>1575.0</td>\n",
              "      <td>0.1374</td>\n",
              "      <td>0.2050</td>\n",
              "      <td>0.4000</td>\n",
              "      <td>0.1625</td>\n",
              "      <td>0.2364</td>\n",
              "      <td>0.07678</td>\n",
              "      <td>Benign</td>\n",
              "    </tr>\n",
              "  </tbody>\n",
              "</table>\n",
              "</div>"
            ],
            "text/plain": [
              "   mean radius  mean texture  ...  worst fractal dimension   label\n",
              "0        17.99         10.38  ...                  0.11890  Benign\n",
              "1        20.57         17.77  ...                  0.08902  Benign\n",
              "2        19.69         21.25  ...                  0.08758  Benign\n",
              "3        11.42         20.38  ...                  0.17300  Benign\n",
              "4        20.29         14.34  ...                  0.07678  Benign\n",
              "\n",
              "[5 rows x 31 columns]"
            ]
          },
          "metadata": {
            "tags": []
          },
          "execution_count": 35
        }
      ]
    },
    {
      "cell_type": "code",
      "metadata": {
        "id": "rfQ5VixxzUD0",
        "colab_type": "code",
        "colab": {}
      },
      "source": [
        "from sklearn.preprocessing import StandardScaler\n",
        "\n",
        "x = df.loc[:, features].values # normalizing: mean=0; std=1\n",
        "x = StandardScaler().fit_transform(x)"
      ],
      "execution_count": 0,
      "outputs": []
    },
    {
      "cell_type": "code",
      "metadata": {
        "id": "iL4lKj5VzVb4",
        "colab_type": "code",
        "outputId": "db8bd767-2c23-477f-b056-a0ddd982381d",
        "colab": {
          "base_uri": "https://localhost:8080/",
          "height": 204
        }
      },
      "source": [
        "from sklearn.decomposition import PCA\n",
        "\n",
        "\n",
        "pca = PCA(n_components=2)\n",
        "pC_df = pca.fit_transform(x)\n",
        "principal_df = pd.DataFrame(data = pC_df, columns = ['PC1', 'PC2'])\n",
        "principal_df.tail()"
      ],
      "execution_count": 0,
      "outputs": [
        {
          "output_type": "execute_result",
          "data": {
            "text/html": [
              "<div>\n",
              "<style scoped>\n",
              "    .dataframe tbody tr th:only-of-type {\n",
              "        vertical-align: middle;\n",
              "    }\n",
              "\n",
              "    .dataframe tbody tr th {\n",
              "        vertical-align: top;\n",
              "    }\n",
              "\n",
              "    .dataframe thead th {\n",
              "        text-align: right;\n",
              "    }\n",
              "</style>\n",
              "<table border=\"1\" class=\"dataframe\">\n",
              "  <thead>\n",
              "    <tr style=\"text-align: right;\">\n",
              "      <th></th>\n",
              "      <th>PC1</th>\n",
              "      <th>PC2</th>\n",
              "    </tr>\n",
              "  </thead>\n",
              "  <tbody>\n",
              "    <tr>\n",
              "      <th>564</th>\n",
              "      <td>6.439315</td>\n",
              "      <td>-3.576817</td>\n",
              "    </tr>\n",
              "    <tr>\n",
              "      <th>565</th>\n",
              "      <td>3.793382</td>\n",
              "      <td>-3.584048</td>\n",
              "    </tr>\n",
              "    <tr>\n",
              "      <th>566</th>\n",
              "      <td>1.256179</td>\n",
              "      <td>-1.902297</td>\n",
              "    </tr>\n",
              "    <tr>\n",
              "      <th>567</th>\n",
              "      <td>10.374794</td>\n",
              "      <td>1.672010</td>\n",
              "    </tr>\n",
              "    <tr>\n",
              "      <th>568</th>\n",
              "      <td>-5.475243</td>\n",
              "      <td>-0.670637</td>\n",
              "    </tr>\n",
              "  </tbody>\n",
              "</table>\n",
              "</div>"
            ],
            "text/plain": [
              "           PC1       PC2\n",
              "564   6.439315 -3.576817\n",
              "565   3.793382 -3.584048\n",
              "566   1.256179 -1.902297\n",
              "567  10.374794  1.672010\n",
              "568  -5.475243 -0.670637"
            ]
          },
          "metadata": {
            "tags": []
          },
          "execution_count": 37
        }
      ]
    },
    {
      "cell_type": "code",
      "metadata": {
        "id": "le1bPslv16bd",
        "colab_type": "code",
        "outputId": "60388de9-606d-4688-c0cd-371ac306771f",
        "colab": {
          "base_uri": "https://localhost:8080/",
          "height": 34
        }
      },
      "source": [
        "print('Explained variation per principal component: {}'.format(pca.explained_variance_ratio_))"
      ],
      "execution_count": 0,
      "outputs": [
        {
          "output_type": "stream",
          "text": [
            "Explained variation per principal component: [0.44272026 0.18971182]\n"
          ],
          "name": "stdout"
        }
      ]
    },
    {
      "cell_type": "code",
      "metadata": {
        "id": "_KH0QodL2Byc",
        "colab_type": "code",
        "outputId": "3fe008ac-558f-4fcb-fe83-112f18a97f3e",
        "colab": {
          "base_uri": "https://localhost:8080/",
          "height": 300
        }
      },
      "source": [
        "import seaborn as sns\n",
        "\n",
        "sns.scatterplot(x=principal_df.PC1, y = principal_df.PC2,hue=df.label)"
      ],
      "execution_count": 0,
      "outputs": [
        {
          "output_type": "execute_result",
          "data": {
            "text/plain": [
              "<matplotlib.axes._subplots.AxesSubplot at 0x7f8f973b68d0>"
            ]
          },
          "metadata": {
            "tags": []
          },
          "execution_count": 39
        },
        {
          "output_type": "display_data",
          "data": {
            "image/png": "[encoded data removed]",
            "text/plain": [
              "<Figure size 432x288 with 1 Axes>"
            ]
          },
          "metadata": {
            "tags": []
          }
        }
      ]
    },
    {
      "cell_type": "code",
      "metadata": {
        "id": "ePKzyRkB2YkF",
        "colab_type": "code",
        "outputId": "757330b9-8953-4910-be0a-d8df88528093",
        "colab": {
          "base_uri": "https://localhost:8080/",
          "height": 638
        }
      },
      "source": [
        "import matplotlib.pyplot as plt\n",
        "\n",
        "plt.figure()\n",
        "plt.figure(figsize=(10,10))\n",
        "plt.xticks(fontsize=8)\n",
        "plt.yticks(fontsize=10)\n",
        "plt.xlabel('PC1',fontsize=10)\n",
        "plt.ylabel('PC2',fontsize=10)\n",
        "plt.title(\"PCA of Breast Cancer Dataset\",fontsize=12)\n",
        "targets = ['Benign', 'Malignant']\n",
        "colors = ['r', 'g']\n",
        "\n",
        "for target, color in zip(targets,colors):\n",
        "  indicesToKeep = df['label'] == target\n",
        "  plt.scatter(principal_df.loc[indicesToKeep, 'PC1'] , principal_df.loc[indicesToKeep, 'PC2'], c = color, s = 50)"
      ],
      "execution_count": 0,
      "outputs": [
        {
          "output_type": "display_data",
          "data": {
            "text/plain": [
              "<Figure size 432x288 with 0 Axes>"
            ]
          },
          "metadata": {
            "tags": []
          }
        },
        {
          "output_type": "display_data",
          "data": {
            "image/png": "[encoded data removed]",
            "text/plain": [
              "<Figure size 720x720 with 1 Axes>"
            ]
          },
          "metadata": {
            "tags": []
          }
        }
      ]
    },
    {
      "cell_type": "markdown",
      "metadata": {
        "id": "4zNxd8vAQxuO",
        "colab_type": "text"
      },
      "source": [
        "## Exercise 1\n",
        "\n",
        "---\n",
        "\n"
      ]
    },
    {
      "cell_type": "code",
      "metadata": {
        "id": "7kEGH5pH3GHp",
        "colab_type": "code",
        "colab": {}
      },
      "source": [
        "from sklearn.neighbors import KNeighborsClassifier\n",
        "from sklearn.naive_bayes import GaussianNB\n",
        "from sklearn.linear_model import LogisticRegression\n",
        "from sklearn.svm import SVC\n",
        "from sklearn.tree import DecisionTreeClassifier\n",
        "from sklearn.ensemble import RandomForestClassifier\n",
        "from sklearn.neural_network import MLPClassifier\n",
        "\n",
        "\n",
        "models = {\n",
        "    \"knn\": KNeighborsClassifier(n_neighbors=3),\n",
        "    \"naive_bayes\": GaussianNB(),\n",
        "    \"logit\": LogisticRegression(solver=\"liblinear\", multi_class=\"auto\"),\n",
        "    \"svm\": SVC(kernel=\"linear\"),\n",
        "    \"decision_tree\": DecisionTreeClassifier(),\n",
        "    \"random_forest\": RandomForestClassifier(n_estimators=100),\n",
        "    \n",
        "}"
      ],
      "execution_count": 0,
      "outputs": []
    },
    {
      "cell_type": "code",
      "metadata": {
        "id": "m_FignsT4BTn",
        "colab_type": "code",
        "colab": {}
      },
      "source": [
        "from sklearn.model_selection import train_test_split\n",
        "from sklearn.metrics import classification_report\n"
      ],
      "execution_count": 0,
      "outputs": []
    },
    {
      "cell_type": "code",
      "metadata": {
        "id": "shL5roiZ4jm4",
        "colab_type": "code",
        "colab": {}
      },
      "source": [
        "#train data sebelum pca\n",
        "acc_bc= {}\n",
        "\n",
        "x_train, x_test, y_train, y_test = train_test_split(bc.data, bc.target, train_size= 80)\n",
        "\n",
        "before = {}\n",
        "acc_bc['before'] = {}\n",
        "\n",
        "for name in models:\n",
        "  models[name].fit(x_train,y_train)\n",
        "  before[name] = classification_report(y_test, models[name].predict(x_test), output_dict=True, target_names=bc.target_names)\n",
        "  acc_bc['before'][name] = before[name]['accuracy']\n",
        "  "
      ],
      "execution_count": 0,
      "outputs": []
    },
    {
      "cell_type": "code",
      "metadata": {
        "id": "nixJSlhd54gU",
        "colab_type": "code",
        "colab": {}
      },
      "source": [
        ""
      ],
      "execution_count": 0,
      "outputs": []
    },
    {
      "cell_type": "code",
      "metadata": {
        "id": "j3b3RoqU6ORu",
        "colab_type": "code",
        "colab": {}
      },
      "source": [
        "#split data sesuda pca\n",
        "\n",
        "x_train, x_test, y_train, y_test = train_test_split(principal_df, bc.target, train_size= 80)\n",
        "\n",
        "after_pca = {}\n",
        "\n",
        "for name in models:\n",
        "  models[name].fit(x_train,y_train)\n",
        "  after_pca[name] = classification_report(y_test, models[name].predict(x_test),output_dict=True, target_names=bc.target_names)\n",
        "  acc_bc['after_pca'] = after_pca[name]['accuracy']\n",
        "  "
      ],
      "execution_count": 0,
      "outputs": []
    },
    {
      "cell_type": "code",
      "metadata": {
        "id": "L--rE8wq6XqN",
        "colab_type": "code",
        "colab": {}
      },
      "source": [
        "from pprint import pprint as pp"
      ],
      "execution_count": 0,
      "outputs": []
    },
    {
      "cell_type": "code",
      "metadata": {
        "id": "oHiPWprwN1G8",
        "colab_type": "code",
        "outputId": "a8019eba-bb25-4b50-ae37-ec98d191f6b0",
        "colab": {
          "base_uri": "https://localhost:8080/",
          "height": 136
        }
      },
      "source": [
        "acc_bc"
      ],
      "execution_count": 0,
      "outputs": [
        {
          "output_type": "execute_result",
          "data": {
            "text/plain": [
              "{'after_pca': 0.9386503067484663,\n",
              " 'before': {'decision_tree': 0.9141104294478528,\n",
              "  'knn': 0.9284253578732107,\n",
              "  'logit': 0.9243353783231084,\n",
              "  'naive_bayes': 0.9386503067484663,\n",
              "  'random_forest': 0.9447852760736196,\n",
              "  'svm': 0.8977505112474438}}"
            ]
          },
          "metadata": {
            "tags": []
          },
          "execution_count": 46
        }
      ]
    },
    {
      "cell_type": "code",
      "metadata": {
        "id": "m1j521N4_9yQ",
        "colab_type": "code",
        "outputId": "0d49cb42-e548-4603-f9da-47fef0b8444b",
        "colab": {
          "base_uri": "https://localhost:8080/",
          "height": 204
        }
      },
      "source": [
        "df_acc = pd.DataFrame.from_dict(acc_bc)\n",
        "df_acc.head()"
      ],
      "execution_count": 0,
      "outputs": [
        {
          "output_type": "execute_result",
          "data": {
            "text/html": [
              "<div>\n",
              "<style scoped>\n",
              "    .dataframe tbody tr th:only-of-type {\n",
              "        vertical-align: middle;\n",
              "    }\n",
              "\n",
              "    .dataframe tbody tr th {\n",
              "        vertical-align: top;\n",
              "    }\n",
              "\n",
              "    .dataframe thead th {\n",
              "        text-align: right;\n",
              "    }\n",
              "</style>\n",
              "<table border=\"1\" class=\"dataframe\">\n",
              "  <thead>\n",
              "    <tr style=\"text-align: right;\">\n",
              "      <th></th>\n",
              "      <th>before</th>\n",
              "      <th>after_pca</th>\n",
              "    </tr>\n",
              "  </thead>\n",
              "  <tbody>\n",
              "    <tr>\n",
              "      <th>decision_tree</th>\n",
              "      <td>0.914110</td>\n",
              "      <td>0.93865</td>\n",
              "    </tr>\n",
              "    <tr>\n",
              "      <th>knn</th>\n",
              "      <td>0.928425</td>\n",
              "      <td>0.93865</td>\n",
              "    </tr>\n",
              "    <tr>\n",
              "      <th>logit</th>\n",
              "      <td>0.924335</td>\n",
              "      <td>0.93865</td>\n",
              "    </tr>\n",
              "    <tr>\n",
              "      <th>naive_bayes</th>\n",
              "      <td>0.938650</td>\n",
              "      <td>0.93865</td>\n",
              "    </tr>\n",
              "    <tr>\n",
              "      <th>random_forest</th>\n",
              "      <td>0.944785</td>\n",
              "      <td>0.93865</td>\n",
              "    </tr>\n",
              "  </tbody>\n",
              "</table>\n",
              "</div>"
            ],
            "text/plain": [
              "                 before  after_pca\n",
              "decision_tree  0.914110    0.93865\n",
              "knn            0.928425    0.93865\n",
              "logit          0.924335    0.93865\n",
              "naive_bayes    0.938650    0.93865\n",
              "random_forest  0.944785    0.93865"
            ]
          },
          "metadata": {
            "tags": []
          },
          "execution_count": 47
        }
      ]
    },
    {
      "cell_type": "code",
      "metadata": {
        "id": "dFqUkjf3F77k",
        "colab_type": "code",
        "outputId": "4513456f-53a7-4c37-9ab9-e49cdad02b28",
        "colab": {
          "base_uri": "https://localhost:8080/",
          "height": 287
        }
      },
      "source": [
        "sns.lineplot(data=df_acc)"
      ],
      "execution_count": 0,
      "outputs": [
        {
          "output_type": "execute_result",
          "data": {
            "text/plain": [
              "<matplotlib.axes._subplots.AxesSubplot at 0x7f8f979c5ba8>"
            ]
          },
          "metadata": {
            "tags": []
          },
          "execution_count": 48
        },
        {
          "output_type": "display_data",
          "data": {
            "image/png": "[encoded data removed]",
            "text/plain": [
              "<Figure size 432x288 with 1 Axes>"
            ]
          },
          "metadata": {
            "tags": []
          }
        }
      ]
    },
    {
      "cell_type": "code",
      "metadata": {
        "id": "_fs3Snvt7en3",
        "colab_type": "code",
        "outputId": "9982af16-7a8d-4a8e-a0db-9c95b6ed4d7c",
        "colab": {
          "base_uri": "https://localhost:8080/",
          "height": 649
        }
      },
      "source": [
        "for name in models:\n",
        "  print(\"=\"*50,\"\\n\", name)\n",
        "  print(\"before\")\n",
        "  print(before[name])\n",
        "  print(\"after\")\n",
        "  print(after_pca[name])"
      ],
      "execution_count": 0,
      "outputs": [
        {
          "output_type": "stream",
          "text": [
            "================================================== \n",
            " knn\n",
            "before\n",
            "{'malignant': {'precision': 0.9559748427672956, 'recall': 0.8444444444444444, 'f1-score': 0.8967551622418879, 'support': 180}, 'benign': {'precision': 0.9151515151515152, 'recall': 0.9773462783171522, 'f1-score': 0.9452269170579031, 'support': 309}, 'accuracy': 0.9284253578732107, 'macro avg': {'precision': 0.9355631789594054, 'recall': 0.9108953613807983, 'f1-score': 0.9209910396498955, 'support': 489}, 'weighted avg': {'precision': 0.9301785069119252, 'recall': 0.9284253578732107, 'f1-score': 0.9273845533219465, 'support': 489}}\n",
            "after\n",
            "{'malignant': {'precision': 0.8956043956043956, 'recall': 0.9005524861878453, 'f1-score': 0.8980716253443527, 'support': 181}, 'benign': {'precision': 0.9413680781758957, 'recall': 0.9383116883116883, 'f1-score': 0.9398373983739837, 'support': 308}, 'accuracy': 0.9243353783231084, 'macro avg': {'precision': 0.9184862368901456, 'recall': 0.9194320872497668, 'f1-score': 0.9189545118591682, 'support': 489}, 'weighted avg': {'precision': 0.9244289645860359, 'recall': 0.9243353783231084, 'f1-score': 0.9243780836125047, 'support': 489}}\n",
            "================================================== \n",
            " naive_bayes\n",
            "before\n",
            "{'malignant': {'precision': 0.9629629629629629, 'recall': 0.8666666666666667, 'f1-score': 0.912280701754386, 'support': 180}, 'benign': {'precision': 0.926605504587156, 'recall': 0.9805825242718447, 'f1-score': 0.9528301886792453, 'support': 309}, 'accuracy': 0.9386503067484663, 'macro avg': {'precision': 0.9447842337750594, 'recall': 0.9236245954692557, 'f1-score': 0.9325554452168157, 'support': 489}, 'weighted avg': {'precision': 0.9399886180997229, 'recall': 0.9386503067484663, 'f1-score': 0.9379039971731622, 'support': 489}}\n",
            "after\n",
            "{'malignant': {'precision': 0.8846153846153846, 'recall': 0.8895027624309392, 'f1-score': 0.8870523415977962, 'support': 181}, 'benign': {'precision': 0.9348534201954397, 'recall': 0.9318181818181818, 'f1-score': 0.9333333333333333, 'support': 308}, 'accuracy': 0.9161554192229039, 'macro avg': {'precision': 0.9097344024054121, 'recall': 0.9106604721245605, 'f1-score': 0.9101928374655648, 'support': 489}, 'weighted avg': {'precision': 0.9162581554919838, 'recall': 0.9161554192229039, 'f1-score': 0.9162027413003431, 'support': 489}}\n",
            "================================================== \n",
            " logit\n",
            "before\n",
            "{'malignant': {'precision': 0.9230769230769231, 'recall': 0.8666666666666667, 'f1-score': 0.8939828080229226, 'support': 180}, 'benign': {'precision': 0.925, 'recall': 0.9579288025889967, 'f1-score': 0.9411764705882353, 'support': 309}, 'accuracy': 0.9243353783231084, 'macro avg': {'precision': 0.9240384615384616, 'recall': 0.9122977346278317, 'f1-score': 0.917579639305579, 'support': 489}, 'weighted avg': {'precision': 0.9242921189240207, 'recall': 0.9243353783231084, 'f1-score': 0.9238045702574453, 'support': 489}}\n",
            "after\n",
            "{'malignant': {'precision': 0.9597701149425287, 'recall': 0.9226519337016574, 'f1-score': 0.9408450704225353, 'support': 181}, 'benign': {'precision': 0.9555555555555556, 'recall': 0.9772727272727273, 'f1-score': 0.9662921348314608, 'support': 308}, 'accuracy': 0.9570552147239264, 'macro avg': {'precision': 0.9576628352490422, 'recall': 0.9499623304871924, 'f1-score': 0.953568602626998, 'support': 489}, 'weighted avg': {'precision': 0.9571155458398953, 'recall': 0.9570552147239264, 'f1-score': 0.9568730782711019, 'support': 489}}\n",
            "================================================== \n",
            " svm\n",
            "before\n",
            "{'malignant': {'precision': 0.8282828282828283, 'recall': 0.9111111111111111, 'f1-score': 0.8677248677248678, 'support': 180}, 'benign': {'precision': 0.9450171821305842, 'recall': 0.889967637540453, 'f1-score': 0.9166666666666666, 'support': 309}, 'accuracy': 0.8977505112474438, 'macro avg': {'precision': 0.8866500052067062, 'recall': 0.9005393743257821, 'f1-score': 0.8921957671957672, 'support': 489}, 'weighted avg': {'precision': 0.9020474813277293, 'recall': 0.8977505112474438, 'f1-score': 0.898651280553121, 'support': 489}}\n",
            "after\n",
            "{'malignant': {'precision': 0.8941798941798942, 'recall': 0.9337016574585635, 'f1-score': 0.9135135135135135, 'support': 181}, 'benign': {'precision': 0.96, 'recall': 0.935064935064935, 'f1-score': 0.9473684210526316, 'support': 308}, 'accuracy': 0.934560327198364, 'macro avg': {'precision': 0.9270899470899471, 'recall': 0.9343832962617493, 'f1-score': 0.9304409672830726, 'support': 489}, 'weighted avg': {'precision': 0.9356371387455232, 'recall': 0.934560327198364, 'f1-score': 0.9348372589573751, 'support': 489}}\n",
            "================================================== \n",
            " decision_tree\n",
            "before\n",
            "{'malignant': {'precision': 0.8876404494382022, 'recall': 0.8777777777777778, 'f1-score': 0.88268156424581, 'support': 180}, 'benign': {'precision': 0.9292604501607717, 'recall': 0.9352750809061489, 'f1-score': 0.9322580645161289, 'support': 309}, 'accuracy': 0.9141104294478528, 'macro avg': {'precision': 0.908450449799487, 'recall': 0.9065264293419633, 'f1-score': 0.9074698143809694, 'support': 489}, 'weighted avg': {'precision': 0.9139402044960222, 'recall': 0.9141104294478528, 'f1-score': 0.914009046011717, 'support': 489}}\n",
            "after\n",
            "{'malignant': {'precision': 0.9503105590062112, 'recall': 0.8453038674033149, 'f1-score': 0.8947368421052632, 'support': 181}, 'benign': {'precision': 0.9146341463414634, 'recall': 0.974025974025974, 'f1-score': 0.9433962264150942, 'support': 308}, 'accuracy': 0.9263803680981595, 'macro avg': {'precision': 0.9324723526738373, 'recall': 0.9096649207146444, 'f1-score': 0.9190665342601787, 'support': 489}, 'weighted avg': {'precision': 0.9278395260803579, 'recall': 0.9263803680981595, 'f1-score': 0.9253852886644205, 'support': 489}}\n",
            "================================================== \n",
            " random_forest\n",
            "before\n",
            "{'malignant': {'precision': 0.9090909090909091, 'recall': 0.9444444444444444, 'f1-score': 0.9264305177111717, 'support': 180}, 'benign': {'precision': 0.9668874172185431, 'recall': 0.9449838187702265, 'f1-score': 0.9558101472995091, 'support': 309}, 'accuracy': 0.9447852760736196, 'macro avg': {'precision': 0.9379891631547261, 'recall': 0.9447141316073355, 'f1-score': 0.9411203325053403, 'support': 489}, 'weighted avg': {'precision': 0.9456126289507024, 'recall': 0.9447852760736196, 'f1-score': 0.94499555972098, 'support': 489}}\n",
            "after\n",
            "{'malignant': {'precision': 0.9575757575757575, 'recall': 0.8729281767955801, 'f1-score': 0.9132947976878613, 'support': 181}, 'benign': {'precision': 0.9290123456790124, 'recall': 0.9772727272727273, 'f1-score': 0.9525316455696202, 'support': 308}, 'accuracy': 0.9386503067484663, 'macro avg': {'precision': 0.9432940516273849, 'recall': 0.9251004520341537, 'f1-score': 0.9329132216287408, 'support': 489}, 'weighted avg': {'precision': 0.9395848969127769, 'recall': 0.9386503067484663, 'f1-score': 0.9380083951266788, 'support': 489}}\n"
          ],
          "name": "stdout"
        }
      ]
    },
    {
      "cell_type": "markdown",
      "metadata": {
        "id": "b7ioIBSEJwX4",
        "colab_type": "text"
      },
      "source": [
        "\n",
        "# Linear Discriminant Analysis\n",
        "---\n",
        "\n"
      ]
    },
    {
      "cell_type": "code",
      "metadata": {
        "id": "AJBDeTYlKc-1",
        "colab_type": "code",
        "outputId": "a5159a63-bf38-4021-ca75-39770c3bd3a7",
        "colab": {
          "base_uri": "https://localhost:8080/",
          "height": 238
        }
      },
      "source": [
        "# standarized all features, have been done before\n",
        "x"
      ],
      "execution_count": 0,
      "outputs": [
        {
          "output_type": "execute_result",
          "data": {
            "text/plain": [
              "array([[ 1.09706398, -2.07333501,  1.26993369, ...,  2.29607613,\n",
              "         2.75062224,  1.93701461],\n",
              "       [ 1.82982061, -0.35363241,  1.68595471, ...,  1.0870843 ,\n",
              "        -0.24388967,  0.28118999],\n",
              "       [ 1.57988811,  0.45618695,  1.56650313, ...,  1.95500035,\n",
              "         1.152255  ,  0.20139121],\n",
              "       ...,\n",
              "       [ 0.70228425,  2.0455738 ,  0.67267578, ...,  0.41406869,\n",
              "        -1.10454895, -0.31840916],\n",
              "       [ 1.83834103,  2.33645719,  1.98252415, ...,  2.28998549,\n",
              "         1.91908301,  2.21963528],\n",
              "       [-1.80840125,  1.22179204, -1.81438851, ..., -1.74506282,\n",
              "        -0.04813821, -0.75120669]])"
            ]
          },
          "metadata": {
            "tags": []
          },
          "execution_count": 50
        }
      ]
    },
    {
      "cell_type": "code",
      "metadata": {
        "id": "Qzys4-0HKoLX",
        "colab_type": "code",
        "outputId": "6afa0643-20f9-4ff8-92ff-5f3c3c9ea29b",
        "colab": {
          "base_uri": "https://localhost:8080/",
          "height": 34
        }
      },
      "source": [
        "from sklearn.discriminant_analysis import LinearDiscriminantAnalysis\n",
        "\n",
        "lda = LinearDiscriminantAnalysis(n_components=1)\n",
        "np_lda = lda.fit(x,bc.target).transform(x)\n",
        "df_lda = pd.DataFrame(np_lda)\n",
        "\n",
        "print('Explained variation per principal component:{}'.format(lda.explained_variance_ratio_))"
      ],
      "execution_count": 0,
      "outputs": [
        {
          "output_type": "stream",
          "text": [
            "Explained variation per principal component:[1.]\n"
          ],
          "name": "stdout"
        }
      ]
    },
    {
      "cell_type": "code",
      "metadata": {
        "id": "tWm1x4yCLlPl",
        "colab_type": "code",
        "outputId": "c7a717bc-5834-4e86-feb3-f11f6a5ccfcc",
        "colab": {
          "base_uri": "https://localhost:8080/",
          "height": 204
        }
      },
      "source": [
        "df_lda.head()"
      ],
      "execution_count": 0,
      "outputs": [
        {
          "output_type": "execute_result",
          "data": {
            "text/html": [
              "<div>\n",
              "<style scoped>\n",
              "    .dataframe tbody tr th:only-of-type {\n",
              "        vertical-align: middle;\n",
              "    }\n",
              "\n",
              "    .dataframe tbody tr th {\n",
              "        vertical-align: top;\n",
              "    }\n",
              "\n",
              "    .dataframe thead th {\n",
              "        text-align: right;\n",
              "    }\n",
              "</style>\n",
              "<table border=\"1\" class=\"dataframe\">\n",
              "  <thead>\n",
              "    <tr style=\"text-align: right;\">\n",
              "      <th></th>\n",
              "      <th>0</th>\n",
              "    </tr>\n",
              "  </thead>\n",
              "  <tbody>\n",
              "    <tr>\n",
              "      <th>0</th>\n",
              "      <td>-3.323927</td>\n",
              "    </tr>\n",
              "    <tr>\n",
              "      <th>1</th>\n",
              "      <td>-2.319108</td>\n",
              "    </tr>\n",
              "    <tr>\n",
              "      <th>2</th>\n",
              "      <td>-3.747425</td>\n",
              "    </tr>\n",
              "    <tr>\n",
              "      <th>3</th>\n",
              "      <td>-4.048549</td>\n",
              "    </tr>\n",
              "    <tr>\n",
              "      <th>4</th>\n",
              "      <td>-2.281158</td>\n",
              "    </tr>\n",
              "  </tbody>\n",
              "</table>\n",
              "</div>"
            ],
            "text/plain": [
              "          0\n",
              "0 -3.323927\n",
              "1 -2.319108\n",
              "2 -3.747425\n",
              "3 -4.048549\n",
              "4 -2.281158"
            ]
          },
          "metadata": {
            "tags": []
          },
          "execution_count": 52
        }
      ]
    },
    {
      "cell_type": "markdown",
      "metadata": {
        "id": "okmULVdeLo3k",
        "colab_type": "text"
      },
      "source": [
        "## Excercise 2\n",
        "\n",
        "---\n",
        "\n"
      ]
    },
    {
      "cell_type": "code",
      "metadata": {
        "id": "D915wJ0BMNgz",
        "colab_type": "code",
        "colab": {}
      },
      "source": [
        "x_train, x_test, y_train, y_test = train_test_split(df_lda, bc.target, train_size= 80)\n",
        "\n",
        "after_lda = {}\n",
        "acc_bc['after_lda'] = {}\n",
        "\n",
        "for name in models:\n",
        "  models[name].fit(x_train,y_train)\n",
        "  after_lda[name] = classification_report(y_test, models[name].predict(x_test), output_dict=True, target_names=bc.target_names)\n",
        "  acc_bc['after_lda'][name] = after_lda[name]['accuracy']"
      ],
      "execution_count": 0,
      "outputs": []
    },
    {
      "cell_type": "code",
      "metadata": {
        "id": "1jP-4Po9MlB6",
        "colab_type": "code",
        "outputId": "a9098a4b-7baf-4fd7-e744-09ffdd2da11d",
        "colab": {
          "base_uri": "https://localhost:8080/",
          "height": 1955
        }
      },
      "source": [
        "for name in models:\n",
        "  print(name)\n",
        "  pp(after_lda[name])\n",
        "  print(\"=\"*50)"
      ],
      "execution_count": 0,
      "outputs": [
        {
          "output_type": "stream",
          "text": [
            "knn\n",
            "{'accuracy': 0.9631901840490797,\n",
            " 'benign': {'f1-score': 0.9717868338557993,\n",
            "            'precision': 0.950920245398773,\n",
            "            'recall': 0.9935897435897436,\n",
            "            'support': 312},\n",
            " 'macro avg': {'f1-score': 0.9594228286926054,\n",
            "               'precision': 0.9693251533742331,\n",
            "               'recall': 0.9515971316818774,\n",
            "               'support': 489},\n",
            " 'malignant': {'f1-score': 0.9470588235294116,\n",
            "               'precision': 0.9877300613496932,\n",
            "               'recall': 0.9096045197740112,\n",
            "               'support': 177},\n",
            " 'weighted avg': {'f1-score': 0.9628362043511558,\n",
            "                  'precision': 0.9642440438104558,\n",
            "                  'recall': 0.9631901840490797,\n",
            "                  'support': 489}}\n",
            "==================================================\n",
            "naive_bayes\n",
            "{'accuracy': 0.967280163599182,\n",
            " 'benign': {'f1-score': 0.9747634069400631,\n",
            "            'precision': 0.9596273291925466,\n",
            "            'recall': 0.9903846153846154,\n",
            "            'support': 312},\n",
            " 'macro avg': {'f1-score': 0.9641258895165432,\n",
            "               'precision': 0.9708316286681296,\n",
            "               'recall': 0.9584691438504997,\n",
            "               'support': 489},\n",
            " 'malignant': {'f1-score': 0.9534883720930232,\n",
            "               'precision': 0.9820359281437125,\n",
            "               'recall': 0.9265536723163842,\n",
            "               'support': 177},\n",
            " 'weighted avg': {'f1-score': 0.9670626274555517,\n",
            "                  'precision': 0.9677384171564656,\n",
            "                  'recall': 0.967280163599182,\n",
            "                  'support': 489}}\n",
            "==================================================\n",
            "logit\n",
            "{'accuracy': 0.9693251533742331,\n",
            " 'benign': {'f1-score': 0.976303317535545,\n",
            "            'precision': 0.9626168224299065,\n",
            "            'recall': 0.9903846153846154,\n",
            "            'support': 312},\n",
            " 'macro avg': {'f1-score': 0.9664125283329899,\n",
            "               'precision': 0.9723798397863819,\n",
            "               'recall': 0.9612940026075619,\n",
            "               'support': 489},\n",
            " 'malignant': {'f1-score': 0.9565217391304348,\n",
            "               'precision': 0.9821428571428571,\n",
            "               'recall': 0.9322033898305084,\n",
            "               'support': 177},\n",
            " 'weighted avg': {'f1-score': 0.9691431143091556,\n",
            "                  'precision': 0.9696845282462506,\n",
            "                  'recall': 0.9693251533742331,\n",
            "                  'support': 489}}\n",
            "==================================================\n",
            "svm\n",
            "{'accuracy': 0.9652351738241309,\n",
            " 'benign': {'f1-score': 0.9733124018838304,\n",
            "            'precision': 0.9538461538461539,\n",
            "            'recall': 0.9935897435897436,\n",
            "            'support': 312},\n",
            " 'macro avg': {'f1-score': 0.9617295147249064,\n",
            "               'precision': 0.9708255159474672,\n",
            "               'recall': 0.9544219904389396,\n",
            "               'support': 489},\n",
            " 'malignant': {'f1-score': 0.9501466275659824,\n",
            "               'precision': 0.9878048780487805,\n",
            "               'recall': 0.9152542372881356,\n",
            "               'support': 177},\n",
            " 'weighted avg': {'f1-score': 0.9649272443086584,\n",
            "                  'precision': 0.966137961993117,\n",
            "                  'recall': 0.9652351738241309,\n",
            "                  'support': 489}}\n",
            "==================================================\n",
            "decision_tree\n",
            "{'accuracy': 0.9693251533742331,\n",
            " 'benign': {'f1-score': 0.976303317535545,\n",
            "            'precision': 0.9626168224299065,\n",
            "            'recall': 0.9903846153846154,\n",
            "            'support': 312},\n",
            " 'macro avg': {'f1-score': 0.9664125283329899,\n",
            "               'precision': 0.9723798397863819,\n",
            "               'recall': 0.9612940026075619,\n",
            "               'support': 489},\n",
            " 'malignant': {'f1-score': 0.9565217391304348,\n",
            "               'precision': 0.9821428571428571,\n",
            "               'recall': 0.9322033898305084,\n",
            "               'support': 177},\n",
            " 'weighted avg': {'f1-score': 0.9691431143091556,\n",
            "                  'precision': 0.9696845282462506,\n",
            "                  'recall': 0.9693251533742331,\n",
            "                  'support': 489}}\n",
            "==================================================\n",
            "random_forest\n",
            "{'accuracy': 0.9693251533742331,\n",
            " 'benign': {'f1-score': 0.976303317535545,\n",
            "            'precision': 0.9626168224299065,\n",
            "            'recall': 0.9903846153846154,\n",
            "            'support': 312},\n",
            " 'macro avg': {'f1-score': 0.9664125283329899,\n",
            "               'precision': 0.9723798397863819,\n",
            "               'recall': 0.9612940026075619,\n",
            "               'support': 489},\n",
            " 'malignant': {'f1-score': 0.9565217391304348,\n",
            "               'precision': 0.9821428571428571,\n",
            "               'recall': 0.9322033898305084,\n",
            "               'support': 177},\n",
            " 'weighted avg': {'f1-score': 0.9691431143091556,\n",
            "                  'precision': 0.9696845282462506,\n",
            "                  'recall': 0.9693251533742331,\n",
            "                  'support': 489}}\n",
            "==================================================\n"
          ],
          "name": "stdout"
        }
      ]
    },
    {
      "cell_type": "code",
      "metadata": {
        "id": "7o9J9ZixNecX",
        "colab_type": "code",
        "outputId": "ae0b3843-a08a-41d5-d26f-d2f81ede058c",
        "colab": {
          "base_uri": "https://localhost:8080/",
          "height": 235
        }
      },
      "source": [
        "df_acc = pd.DataFrame.from_dict(acc_bc)\n",
        "df_acc"
      ],
      "execution_count": 0,
      "outputs": [
        {
          "output_type": "execute_result",
          "data": {
            "text/html": [
              "<div>\n",
              "<style scoped>\n",
              "    .dataframe tbody tr th:only-of-type {\n",
              "        vertical-align: middle;\n",
              "    }\n",
              "\n",
              "    .dataframe tbody tr th {\n",
              "        vertical-align: top;\n",
              "    }\n",
              "\n",
              "    .dataframe thead th {\n",
              "        text-align: right;\n",
              "    }\n",
              "</style>\n",
              "<table border=\"1\" class=\"dataframe\">\n",
              "  <thead>\n",
              "    <tr style=\"text-align: right;\">\n",
              "      <th></th>\n",
              "      <th>before</th>\n",
              "      <th>after_pca</th>\n",
              "      <th>after_lda</th>\n",
              "    </tr>\n",
              "  </thead>\n",
              "  <tbody>\n",
              "    <tr>\n",
              "      <th>decision_tree</th>\n",
              "      <td>0.914110</td>\n",
              "      <td>0.93865</td>\n",
              "      <td>0.969325</td>\n",
              "    </tr>\n",
              "    <tr>\n",
              "      <th>knn</th>\n",
              "      <td>0.928425</td>\n",
              "      <td>0.93865</td>\n",
              "      <td>0.963190</td>\n",
              "    </tr>\n",
              "    <tr>\n",
              "      <th>logit</th>\n",
              "      <td>0.924335</td>\n",
              "      <td>0.93865</td>\n",
              "      <td>0.969325</td>\n",
              "    </tr>\n",
              "    <tr>\n",
              "      <th>naive_bayes</th>\n",
              "      <td>0.938650</td>\n",
              "      <td>0.93865</td>\n",
              "      <td>0.967280</td>\n",
              "    </tr>\n",
              "    <tr>\n",
              "      <th>random_forest</th>\n",
              "      <td>0.944785</td>\n",
              "      <td>0.93865</td>\n",
              "      <td>0.969325</td>\n",
              "    </tr>\n",
              "    <tr>\n",
              "      <th>svm</th>\n",
              "      <td>0.897751</td>\n",
              "      <td>0.93865</td>\n",
              "      <td>0.965235</td>\n",
              "    </tr>\n",
              "  </tbody>\n",
              "</table>\n",
              "</div>"
            ],
            "text/plain": [
              "                 before  after_pca  after_lda\n",
              "decision_tree  0.914110    0.93865   0.969325\n",
              "knn            0.928425    0.93865   0.963190\n",
              "logit          0.924335    0.93865   0.969325\n",
              "naive_bayes    0.938650    0.93865   0.967280\n",
              "random_forest  0.944785    0.93865   0.969325\n",
              "svm            0.897751    0.93865   0.965235"
            ]
          },
          "metadata": {
            "tags": []
          },
          "execution_count": 55
        }
      ]
    },
    {
      "cell_type": "code",
      "metadata": {
        "id": "yHHeAZZfNDfg",
        "colab_type": "code",
        "outputId": "7e6063d6-37e6-4bca-aaf8-80b7bc58c464",
        "colab": {
          "base_uri": "https://localhost:8080/",
          "height": 287
        }
      },
      "source": [
        "sns.lineplot(data=df_acc)"
      ],
      "execution_count": 0,
      "outputs": [
        {
          "output_type": "execute_result",
          "data": {
            "text/plain": [
              "<matplotlib.axes._subplots.AxesSubplot at 0x7f8f972660b8>"
            ]
          },
          "metadata": {
            "tags": []
          },
          "execution_count": 56
        },
        {
          "output_type": "display_data",
          "data": {
            "image/png": "[encoded data removed]",
            "text/plain": [
              "<Figure size 432x288 with 1 Axes>"
            ]
          },
          "metadata": {
            "tags": []
          }
        }
      ]
    },
    {
      "cell_type": "markdown",
      "metadata": {
        "id": "kUnYFqRAOoK-",
        "colab_type": "text"
      },
      "source": [
        "## Excercise 3\n",
        "\n",
        "---\n",
        "\n"
      ]
    },
    {
      "cell_type": "code",
      "metadata": {
        "id": "S9fuENG1Oton",
        "colab_type": "code",
        "outputId": "571e224b-63e3-49ca-d9f7-1f486cca9748",
        "colab": {
          "base_uri": "https://localhost:8080/",
          "height": 238
        }
      },
      "source": [
        "df_wine = pd.read_csv(\"https://archive.ics.uci.edu/ml/machine-learning-databases/wine-quality/winequality-white.csv\",\n",
        "                sep=\";\")\n",
        "\n",
        "df_wine.head()"
      ],
      "execution_count": 0,
      "outputs": [
        {
          "output_type": "execute_result",
          "data": {
            "text/html": [
              "<div>\n",
              "<style scoped>\n",
              "    .dataframe tbody tr th:only-of-type {\n",
              "        vertical-align: middle;\n",
              "    }\n",
              "\n",
              "    .dataframe tbody tr th {\n",
              "        vertical-align: top;\n",
              "    }\n",
              "\n",
              "    .dataframe thead th {\n",
              "        text-align: right;\n",
              "    }\n",
              "</style>\n",
              "<table border=\"1\" class=\"dataframe\">\n",
              "  <thead>\n",
              "    <tr style=\"text-align: right;\">\n",
              "      <th></th>\n",
              "      <th>fixed acidity</th>\n",
              "      <th>volatile acidity</th>\n",
              "      <th>citric acid</th>\n",
              "      <th>residual sugar</th>\n",
              "      <th>chlorides</th>\n",
              "      <th>free sulfur dioxide</th>\n",
              "      <th>total sulfur dioxide</th>\n",
              "      <th>density</th>\n",
              "      <th>pH</th>\n",
              "      <th>sulphates</th>\n",
              "      <th>alcohol</th>\n",
              "      <th>quality</th>\n",
              "    </tr>\n",
              "  </thead>\n",
              "  <tbody>\n",
              "    <tr>\n",
              "      <th>0</th>\n",
              "      <td>7.0</td>\n",
              "      <td>0.27</td>\n",
              "      <td>0.36</td>\n",
              "      <td>20.7</td>\n",
              "      <td>0.045</td>\n",
              "      <td>45.0</td>\n",
              "      <td>170.0</td>\n",
              "      <td>1.0010</td>\n",
              "      <td>3.00</td>\n",
              "      <td>0.45</td>\n",
              "      <td>8.8</td>\n",
              "      <td>6</td>\n",
              "    </tr>\n",
              "    <tr>\n",
              "      <th>1</th>\n",
              "      <td>6.3</td>\n",
              "      <td>0.30</td>\n",
              "      <td>0.34</td>\n",
              "      <td>1.6</td>\n",
              "      <td>0.049</td>\n",
              "      <td>14.0</td>\n",
              "      <td>132.0</td>\n",
              "      <td>0.9940</td>\n",
              "      <td>3.30</td>\n",
              "      <td>0.49</td>\n",
              "      <td>9.5</td>\n",
              "      <td>6</td>\n",
              "    </tr>\n",
              "    <tr>\n",
              "      <th>2</th>\n",
              "      <td>8.1</td>\n",
              "      <td>0.28</td>\n",
              "      <td>0.40</td>\n",
              "      <td>6.9</td>\n",
              "      <td>0.050</td>\n",
              "      <td>30.0</td>\n",
              "      <td>97.0</td>\n",
              "      <td>0.9951</td>\n",
              "      <td>3.26</td>\n",
              "      <td>0.44</td>\n",
              "      <td>10.1</td>\n",
              "      <td>6</td>\n",
              "    </tr>\n",
              "    <tr>\n",
              "      <th>3</th>\n",
              "      <td>7.2</td>\n",
              "      <td>0.23</td>\n",
              "      <td>0.32</td>\n",
              "      <td>8.5</td>\n",
              "      <td>0.058</td>\n",
              "      <td>47.0</td>\n",
              "      <td>186.0</td>\n",
              "      <td>0.9956</td>\n",
              "      <td>3.19</td>\n",
              "      <td>0.40</td>\n",
              "      <td>9.9</td>\n",
              "      <td>6</td>\n",
              "    </tr>\n",
              "    <tr>\n",
              "      <th>4</th>\n",
              "      <td>7.2</td>\n",
              "      <td>0.23</td>\n",
              "      <td>0.32</td>\n",
              "      <td>8.5</td>\n",
              "      <td>0.058</td>\n",
              "      <td>47.0</td>\n",
              "      <td>186.0</td>\n",
              "      <td>0.9956</td>\n",
              "      <td>3.19</td>\n",
              "      <td>0.40</td>\n",
              "      <td>9.9</td>\n",
              "      <td>6</td>\n",
              "    </tr>\n",
              "  </tbody>\n",
              "</table>\n",
              "</div>"
            ],
            "text/plain": [
              "   fixed acidity  volatile acidity  citric acid  ...  sulphates  alcohol  quality\n",
              "0            7.0              0.27         0.36  ...       0.45      8.8        6\n",
              "1            6.3              0.30         0.34  ...       0.49      9.5        6\n",
              "2            8.1              0.28         0.40  ...       0.44     10.1        6\n",
              "3            7.2              0.23         0.32  ...       0.40      9.9        6\n",
              "4            7.2              0.23         0.32  ...       0.40      9.9        6\n",
              "\n",
              "[5 rows x 12 columns]"
            ]
          },
          "metadata": {
            "tags": []
          },
          "execution_count": 57
        }
      ]
    },
    {
      "cell_type": "code",
      "metadata": {
        "id": "O6LxgNnbRxca",
        "colab_type": "code",
        "outputId": "005c0eac-f80d-4b2f-cef2-0c4a103c1f0f",
        "colab": {
          "base_uri": "https://localhost:8080/",
          "height": 306
        }
      },
      "source": [
        "df_wine.info()"
      ],
      "execution_count": 0,
      "outputs": [
        {
          "output_type": "stream",
          "text": [
            "<class 'pandas.core.frame.DataFrame'>\n",
            "RangeIndex: 4898 entries, 0 to 4897\n",
            "Data columns (total 12 columns):\n",
            "fixed acidity           4898 non-null float64\n",
            "volatile acidity        4898 non-null float64\n",
            "citric acid             4898 non-null float64\n",
            "residual sugar          4898 non-null float64\n",
            "chlorides               4898 non-null float64\n",
            "free sulfur dioxide     4898 non-null float64\n",
            "total sulfur dioxide    4898 non-null float64\n",
            "density                 4898 non-null float64\n",
            "pH                      4898 non-null float64\n",
            "sulphates               4898 non-null float64\n",
            "alcohol                 4898 non-null float64\n",
            "quality                 4898 non-null int64\n",
            "dtypes: float64(11), int64(1)\n",
            "memory usage: 459.3 KB\n"
          ],
          "name": "stdout"
        }
      ]
    },
    {
      "cell_type": "markdown",
      "metadata": {
        "id": "WY5GX0mRYjYS",
        "colab_type": "text"
      },
      "source": [
        "**Get Features names and target columns**"
      ]
    },
    {
      "cell_type": "code",
      "metadata": {
        "id": "wcjG-czvWMco",
        "colab_type": "code",
        "outputId": "d4ffef02-f97e-448d-ad58-c6dc32f976fc",
        "colab": {
          "base_uri": "https://localhost:8080/",
          "height": 102
        }
      },
      "source": [
        "wine_features = df_wine.columns.values[:-1]\n",
        "wine_target = df_wine.columns.values[-1]\n",
        "wine_label = df_wine.quality.unique()\n",
        "print(wine_features)\n",
        "print(wine_target)\n",
        "print(wine_label)"
      ],
      "execution_count": 0,
      "outputs": [
        {
          "output_type": "stream",
          "text": [
            "['fixed acidity' 'volatile acidity' 'citric acid' 'residual sugar'\n",
            " 'chlorides' 'free sulfur dioxide' 'total sulfur dioxide' 'density' 'pH'\n",
            " 'sulphates' 'alcohol']\n",
            "quality\n",
            "[6 5 7 8 4 3 9]\n"
          ],
          "name": "stdout"
        }
      ]
    },
    {
      "cell_type": "markdown",
      "metadata": {
        "id": "z1y5V_oJYsiK",
        "colab_type": "text"
      },
      "source": [
        "**Standardize Features**"
      ]
    },
    {
      "cell_type": "code",
      "metadata": {
        "id": "LLPRy88ePleX",
        "colab_type": "code",
        "colab": {}
      },
      "source": [
        "#Standarized wine\n",
        "std_wine = df_wine.iloc[:,:-1].values\n",
        "std_wine = StandardScaler().fit_transform(std_wine)"
      ],
      "execution_count": 0,
      "outputs": []
    },
    {
      "cell_type": "markdown",
      "metadata": {
        "id": "dzK3umcbXfzb",
        "colab_type": "text"
      },
      "source": [
        "### PCA"
      ]
    },
    {
      "cell_type": "code",
      "metadata": {
        "id": "GsWpt6P_TorV",
        "colab_type": "code",
        "outputId": "34fc846a-35fa-4673-c851-3ca57f5b61d5",
        "colab": {
          "base_uri": "https://localhost:8080/",
          "height": 204
        }
      },
      "source": [
        "pca = PCA(n_components=2)\n",
        "pC_df = pca.fit_transform(std_wine)\n",
        "pdf_wine = pd.DataFrame(data = pC_df, columns = ['PC1', 'PC2'])\n",
        "pdf_wine.tail()"
      ],
      "execution_count": 0,
      "outputs": [
        {
          "output_type": "execute_result",
          "data": {
            "text/html": [
              "<div>\n",
              "<style scoped>\n",
              "    .dataframe tbody tr th:only-of-type {\n",
              "        vertical-align: middle;\n",
              "    }\n",
              "\n",
              "    .dataframe tbody tr th {\n",
              "        vertical-align: top;\n",
              "    }\n",
              "\n",
              "    .dataframe thead th {\n",
              "        text-align: right;\n",
              "    }\n",
              "</style>\n",
              "<table border=\"1\" class=\"dataframe\">\n",
              "  <thead>\n",
              "    <tr style=\"text-align: right;\">\n",
              "      <th></th>\n",
              "      <th>PC1</th>\n",
              "      <th>PC2</th>\n",
              "    </tr>\n",
              "  </thead>\n",
              "  <tbody>\n",
              "    <tr>\n",
              "      <th>4893</th>\n",
              "      <td>-2.094367</td>\n",
              "      <td>0.390789</td>\n",
              "    </tr>\n",
              "    <tr>\n",
              "      <th>4894</th>\n",
              "      <td>1.295014</td>\n",
              "      <td>0.490753</td>\n",
              "    </tr>\n",
              "    <tr>\n",
              "      <th>4895</th>\n",
              "      <td>-0.779731</td>\n",
              "      <td>-0.408480</td>\n",
              "    </tr>\n",
              "    <tr>\n",
              "      <th>4896</th>\n",
              "      <td>-3.407302</td>\n",
              "      <td>0.915744</td>\n",
              "    </tr>\n",
              "    <tr>\n",
              "      <th>4897</th>\n",
              "      <td>-2.823212</td>\n",
              "      <td>-0.130939</td>\n",
              "    </tr>\n",
              "  </tbody>\n",
              "</table>\n",
              "</div>"
            ],
            "text/plain": [
              "           PC1       PC2\n",
              "4893 -2.094367  0.390789\n",
              "4894  1.295014  0.490753\n",
              "4895 -0.779731 -0.408480\n",
              "4896 -3.407302  0.915744\n",
              "4897 -2.823212 -0.130939"
            ]
          },
          "metadata": {
            "tags": []
          },
          "execution_count": 61
        }
      ]
    },
    {
      "cell_type": "markdown",
      "metadata": {
        "id": "tRS-boOrXcZC",
        "colab_type": "text"
      },
      "source": [
        "### LDA"
      ]
    },
    {
      "cell_type": "code",
      "metadata": {
        "id": "g1Bl3_7fUrYB",
        "colab_type": "code",
        "outputId": "aaed61d0-6bc0-4eb4-fd9a-bfc7e0e7dfef",
        "colab": {
          "base_uri": "https://localhost:8080/",
          "height": 204
        }
      },
      "source": [
        "lda = LinearDiscriminantAnalysis(n_components=2)\n",
        "np_lda_wine = lda.fit(std_wine,df_wine.quality).transform(std_wine)\n",
        "df_lda_wine = pd.DataFrame(data = np_lda_wine, columns=['LD1','LD2'])\n",
        "\n",
        "df_lda_wine.head()"
      ],
      "execution_count": 0,
      "outputs": [
        {
          "output_type": "execute_result",
          "data": {
            "text/html": [
              "<div>\n",
              "<style scoped>\n",
              "    .dataframe tbody tr th:only-of-type {\n",
              "        vertical-align: middle;\n",
              "    }\n",
              "\n",
              "    .dataframe tbody tr th {\n",
              "        vertical-align: top;\n",
              "    }\n",
              "\n",
              "    .dataframe thead th {\n",
              "        text-align: right;\n",
              "    }\n",
              "</style>\n",
              "<table border=\"1\" class=\"dataframe\">\n",
              "  <thead>\n",
              "    <tr style=\"text-align: right;\">\n",
              "      <th></th>\n",
              "      <th>LD1</th>\n",
              "      <th>LD2</th>\n",
              "    </tr>\n",
              "  </thead>\n",
              "  <tbody>\n",
              "    <tr>\n",
              "      <th>0</th>\n",
              "      <td>-0.870520</td>\n",
              "      <td>1.514632</td>\n",
              "    </tr>\n",
              "    <tr>\n",
              "      <th>1</th>\n",
              "      <td>-1.677604</td>\n",
              "      <td>-0.490273</td>\n",
              "    </tr>\n",
              "    <tr>\n",
              "      <th>2</th>\n",
              "      <td>-0.242396</td>\n",
              "      <td>-0.727960</td>\n",
              "    </tr>\n",
              "    <tr>\n",
              "      <th>3</th>\n",
              "      <td>-0.260282</td>\n",
              "      <td>0.921401</td>\n",
              "    </tr>\n",
              "    <tr>\n",
              "      <th>4</th>\n",
              "      <td>-0.260282</td>\n",
              "      <td>0.921401</td>\n",
              "    </tr>\n",
              "  </tbody>\n",
              "</table>\n",
              "</div>"
            ],
            "text/plain": [
              "        LD1       LD2\n",
              "0 -0.870520  1.514632\n",
              "1 -1.677604 -0.490273\n",
              "2 -0.242396 -0.727960\n",
              "3 -0.260282  0.921401\n",
              "4 -0.260282  0.921401"
            ]
          },
          "metadata": {
            "tags": []
          },
          "execution_count": 62
        }
      ]
    },
    {
      "cell_type": "markdown",
      "metadata": {
        "id": "aWyjSzj2Y8Ar",
        "colab_type": "text"
      },
      "source": [
        "**Make dict of accuracy**\n",
        "\n",
        "\n",
        "used for comparison"
      ]
    },
    {
      "cell_type": "code",
      "metadata": {
        "id": "BJmUf8D2XmUt",
        "colab_type": "code",
        "colab": {}
      },
      "source": [
        "acc_wine = {}"
      ],
      "execution_count": 0,
      "outputs": []
    },
    {
      "cell_type": "markdown",
      "metadata": {
        "id": "3wAXYO_PW_2k",
        "colab_type": "text"
      },
      "source": [
        "### Training model before Dimention Reduction\n",
        "\n"
      ]
    },
    {
      "cell_type": "code",
      "metadata": {
        "id": "cvuEipfMW_Ku",
        "colab_type": "code",
        "outputId": "33ee42de-d4af-4d94-a2b9-c51f6fb582c7",
        "colab": {
          "base_uri": "https://localhost:8080/",
          "height": 241
        }
      },
      "source": [
        "x_train, x_test, y_train, y_test = train_test_split(df_wine, df_wine.quality, train_size= 80, random_state=5)\n",
        "\n",
        "before = {}\n",
        "acc_wine['before'] = {}\n",
        "\n",
        "for name in models:\n",
        "  models[name].fit(x_train,y_train)\n",
        "  before[name] = classification_report(y_test, models[name].predict(x_test), output_dict=True)\n",
        "  acc_wine['before'][name] = before[name]['accuracy']"
      ],
      "execution_count": 0,
      "outputs": [
        {
          "output_type": "stream",
          "text": [
            "/usr/local/lib/python3.6/dist-packages/sklearn/metrics/classification.py:1437: UndefinedMetricWarning: Precision and F-score are ill-defined and being set to 0.0 in labels with no predicted samples.\n",
            "  'precision', 'predicted', average, warn_for)\n",
            "/usr/local/lib/python3.6/dist-packages/sklearn/metrics/classification.py:1437: UndefinedMetricWarning: Precision and F-score are ill-defined and being set to 0.0 in labels with no predicted samples.\n",
            "  'precision', 'predicted', average, warn_for)\n",
            "/usr/local/lib/python3.6/dist-packages/sklearn/metrics/classification.py:1437: UndefinedMetricWarning: Precision and F-score are ill-defined and being set to 0.0 in labels with no predicted samples.\n",
            "  'precision', 'predicted', average, warn_for)\n",
            "/usr/local/lib/python3.6/dist-packages/sklearn/metrics/classification.py:1437: UndefinedMetricWarning: Precision and F-score are ill-defined and being set to 0.0 in labels with no predicted samples.\n",
            "  'precision', 'predicted', average, warn_for)\n",
            "/usr/local/lib/python3.6/dist-packages/sklearn/metrics/classification.py:1437: UndefinedMetricWarning: Precision and F-score are ill-defined and being set to 0.0 in labels with no predicted samples.\n",
            "  'precision', 'predicted', average, warn_for)\n",
            "/usr/local/lib/python3.6/dist-packages/sklearn/metrics/classification.py:1437: UndefinedMetricWarning: Precision and F-score are ill-defined and being set to 0.0 in labels with no predicted samples.\n",
            "  'precision', 'predicted', average, warn_for)\n"
          ],
          "name": "stderr"
        }
      ]
    },
    {
      "cell_type": "markdown",
      "metadata": {
        "id": "j5WWJbdQXNRK",
        "colab_type": "text"
      },
      "source": [
        "### Training model After PCA"
      ]
    },
    {
      "cell_type": "code",
      "metadata": {
        "id": "awjmFl9jXTxS",
        "colab_type": "code",
        "outputId": "74ecaf71-2063-4d3f-f44c-5178fbfe0c9c",
        "colab": {
          "base_uri": "https://localhost:8080/",
          "height": 241
        }
      },
      "source": [
        "x_train, x_test, y_train, y_test = train_test_split(pdf_wine, df_wine.quality, train_size= 80)\n",
        "\n",
        "after_pca = {}\n",
        "acc_wine['after_pca'] = {}\n",
        "\n",
        "for name in models:\n",
        "  models[name].fit(x_train,y_train)\n",
        "  after_pca[name] = classification_report(y_test, models[name].predict(x_test), output_dict=True)\n",
        "  acc_wine['after_pca'][name] = after_pca[name]['accuracy']"
      ],
      "execution_count": 0,
      "outputs": [
        {
          "output_type": "stream",
          "text": [
            "/usr/local/lib/python3.6/dist-packages/sklearn/metrics/classification.py:1437: UndefinedMetricWarning: Precision and F-score are ill-defined and being set to 0.0 in labels with no predicted samples.\n",
            "  'precision', 'predicted', average, warn_for)\n",
            "/usr/local/lib/python3.6/dist-packages/sklearn/metrics/classification.py:1437: UndefinedMetricWarning: Precision and F-score are ill-defined and being set to 0.0 in labels with no predicted samples.\n",
            "  'precision', 'predicted', average, warn_for)\n",
            "/usr/local/lib/python3.6/dist-packages/sklearn/metrics/classification.py:1437: UndefinedMetricWarning: Precision and F-score are ill-defined and being set to 0.0 in labels with no predicted samples.\n",
            "  'precision', 'predicted', average, warn_for)\n",
            "/usr/local/lib/python3.6/dist-packages/sklearn/metrics/classification.py:1437: UndefinedMetricWarning: Precision and F-score are ill-defined and being set to 0.0 in labels with no predicted samples.\n",
            "  'precision', 'predicted', average, warn_for)\n",
            "/usr/local/lib/python3.6/dist-packages/sklearn/metrics/classification.py:1437: UndefinedMetricWarning: Precision and F-score are ill-defined and being set to 0.0 in labels with no predicted samples.\n",
            "  'precision', 'predicted', average, warn_for)\n",
            "/usr/local/lib/python3.6/dist-packages/sklearn/metrics/classification.py:1437: UndefinedMetricWarning: Precision and F-score are ill-defined and being set to 0.0 in labels with no predicted samples.\n",
            "  'precision', 'predicted', average, warn_for)\n"
          ],
          "name": "stderr"
        }
      ]
    },
    {
      "cell_type": "markdown",
      "metadata": {
        "id": "9Y8Tc7dAXUU5",
        "colab_type": "text"
      },
      "source": [
        "### Training model After LDA\n"
      ]
    },
    {
      "cell_type": "code",
      "metadata": {
        "id": "y3B0xZJ7XXdt",
        "colab_type": "code",
        "outputId": "00e1c57d-9db4-43d8-e98a-b88946cfe0cf",
        "colab": {
          "base_uri": "https://localhost:8080/",
          "height": 241
        }
      },
      "source": [
        "x_train, x_test, y_train, y_test = train_test_split(df_lda_wine, df_wine.quality, train_size= 80)\n",
        "\n",
        "after_lda = {}\n",
        "acc_wine['after_lda'] = {}\n",
        "\n",
        "\n",
        "for name in models:\n",
        "  models[name].fit(x_train,y_train)\n",
        "  after_lda[name] = classification_report(y_test, models[name].predict(x_test), output_dict=True)\n",
        "  acc_wine['after_lda'][name] = after_lda[name]['accuracy']"
      ],
      "execution_count": 0,
      "outputs": [
        {
          "output_type": "stream",
          "text": [
            "/usr/local/lib/python3.6/dist-packages/sklearn/metrics/classification.py:1437: UndefinedMetricWarning: Precision and F-score are ill-defined and being set to 0.0 in labels with no predicted samples.\n",
            "  'precision', 'predicted', average, warn_for)\n",
            "/usr/local/lib/python3.6/dist-packages/sklearn/metrics/classification.py:1437: UndefinedMetricWarning: Precision and F-score are ill-defined and being set to 0.0 in labels with no predicted samples.\n",
            "  'precision', 'predicted', average, warn_for)\n",
            "/usr/local/lib/python3.6/dist-packages/sklearn/metrics/classification.py:1437: UndefinedMetricWarning: Precision and F-score are ill-defined and being set to 0.0 in labels with no predicted samples.\n",
            "  'precision', 'predicted', average, warn_for)\n",
            "/usr/local/lib/python3.6/dist-packages/sklearn/metrics/classification.py:1437: UndefinedMetricWarning: Precision and F-score are ill-defined and being set to 0.0 in labels with no predicted samples.\n",
            "  'precision', 'predicted', average, warn_for)\n",
            "/usr/local/lib/python3.6/dist-packages/sklearn/metrics/classification.py:1437: UndefinedMetricWarning: Precision and F-score are ill-defined and being set to 0.0 in labels with no predicted samples.\n",
            "  'precision', 'predicted', average, warn_for)\n",
            "/usr/local/lib/python3.6/dist-packages/sklearn/metrics/classification.py:1437: UndefinedMetricWarning: Precision and F-score are ill-defined and being set to 0.0 in labels with no predicted samples.\n",
            "  'precision', 'predicted', average, warn_for)\n"
          ],
          "name": "stderr"
        }
      ]
    },
    {
      "cell_type": "markdown",
      "metadata": {
        "id": "Q7mupHvNXXxO",
        "colab_type": "text"
      },
      "source": [
        "### Accuracy Comparison"
      ]
    },
    {
      "cell_type": "code",
      "metadata": {
        "id": "rjBdnc6TXa22",
        "colab_type": "code",
        "outputId": "5b56b4d5-9ca3-4beb-d90e-a8532316b72b",
        "colab": {
          "base_uri": "https://localhost:8080/",
          "height": 235
        }
      },
      "source": [
        "df_acc_wine = pd.DataFrame.from_dict(acc_wine)\n",
        "df_acc_wine"
      ],
      "execution_count": 0,
      "outputs": [
        {
          "output_type": "execute_result",
          "data": {
            "text/html": [
              "<div>\n",
              "<style scoped>\n",
              "    .dataframe tbody tr th:only-of-type {\n",
              "        vertical-align: middle;\n",
              "    }\n",
              "\n",
              "    .dataframe tbody tr th {\n",
              "        vertical-align: top;\n",
              "    }\n",
              "\n",
              "    .dataframe thead th {\n",
              "        text-align: right;\n",
              "    }\n",
              "</style>\n",
              "<table border=\"1\" class=\"dataframe\">\n",
              "  <thead>\n",
              "    <tr style=\"text-align: right;\">\n",
              "      <th></th>\n",
              "      <th>before</th>\n",
              "      <th>after_pca</th>\n",
              "      <th>after_lda</th>\n",
              "    </tr>\n",
              "  </thead>\n",
              "  <tbody>\n",
              "    <tr>\n",
              "      <th>decision_tree</th>\n",
              "      <td>0.998962</td>\n",
              "      <td>0.344126</td>\n",
              "      <td>0.426110</td>\n",
              "    </tr>\n",
              "    <tr>\n",
              "      <th>knn</th>\n",
              "      <td>0.351598</td>\n",
              "      <td>0.343088</td>\n",
              "      <td>0.424865</td>\n",
              "    </tr>\n",
              "    <tr>\n",
              "      <th>logit</th>\n",
              "      <td>0.575965</td>\n",
              "      <td>0.415733</td>\n",
              "      <td>0.466584</td>\n",
              "    </tr>\n",
              "    <tr>\n",
              "      <th>naive_bayes</th>\n",
              "      <td>0.998962</td>\n",
              "      <td>0.427978</td>\n",
              "      <td>0.482358</td>\n",
              "    </tr>\n",
              "    <tr>\n",
              "      <th>random_forest</th>\n",
              "      <td>0.834786</td>\n",
              "      <td>0.378580</td>\n",
              "      <td>0.459319</td>\n",
              "    </tr>\n",
              "    <tr>\n",
              "      <th>svm</th>\n",
              "      <td>0.943337</td>\n",
              "      <td>0.425488</td>\n",
              "      <td>0.465961</td>\n",
              "    </tr>\n",
              "  </tbody>\n",
              "</table>\n",
              "</div>"
            ],
            "text/plain": [
              "                 before  after_pca  after_lda\n",
              "decision_tree  0.998962   0.344126   0.426110\n",
              "knn            0.351598   0.343088   0.424865\n",
              "logit          0.575965   0.415733   0.466584\n",
              "naive_bayes    0.998962   0.427978   0.482358\n",
              "random_forest  0.834786   0.378580   0.459319\n",
              "svm            0.943337   0.425488   0.465961"
            ]
          },
          "metadata": {
            "tags": []
          },
          "execution_count": 67
        }
      ]
    },
    {
      "cell_type": "code",
      "metadata": {
        "id": "d7rL-iwRgGRw",
        "colab_type": "code",
        "outputId": "ae837874-cf66-4acc-8e81-88eeded68d80",
        "colab": {
          "base_uri": "https://localhost:8080/",
          "height": 287
        }
      },
      "source": [
        "sns.lineplot(data=df_acc_wine)"
      ],
      "execution_count": 0,
      "outputs": [
        {
          "output_type": "execute_result",
          "data": {
            "text/plain": [
              "<matplotlib.axes._subplots.AxesSubplot at 0x7f8f97194668>"
            ]
          },
          "metadata": {
            "tags": []
          },
          "execution_count": 68
        },
        {
          "output_type": "display_data",
          "data": {
            "image/png": "[encoded data removed]",
            "text/plain": [
              "<Figure size 432x288 with 1 Axes>"
            ]
          },
          "metadata": {
            "tags": []
          }
        }
      ]
    }
  ]
}