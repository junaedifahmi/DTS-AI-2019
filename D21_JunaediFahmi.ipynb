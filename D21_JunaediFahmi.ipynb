{
  "nbformat": 4,
  "nbformat_minor": 0,
  "metadata": {
    "colab": {
      "name": "D21_JunaediFahmi.ipynb",
      "version": "0.3.2",
      "provenance": [],
      "collapsed_sections": [],
      "include_colab_link": true
    },
    "kernelspec": {
      "name": "python3",
      "display_name": "Python 3"
    }
  },
  "cells": [
    {
      "cell_type": "markdown",
      "metadata": {
        "id": "view-in-github",
        "colab_type": "text"
      },
      "source": [
        "<a href=\"https://colab.research.google.com/github/juunnn/DTSAI2019/blob/master/D21_JunaediFahmi.ipynb\" target=\"_parent\"><img src=\"https://colab.research.google.com/assets/colab-badge.svg\" alt=\"Open In Colab\"/></a>"
      ]
    },
    {
      "cell_type": "markdown",
      "metadata": {
        "id": "x1ctRDnkdQeM",
        "colab_type": "text"
      },
      "source": [
        "# Convolutional Neural Networks\n",
        "---\n"
      ]
    },
    {
      "cell_type": "markdown",
      "metadata": {
        "id": "KDL2UDLMmh5I",
        "colab_type": "text"
      },
      "source": [
        "## Step by step CNN by Andrew Ng\n"
      ]
    },
    {
      "cell_type": "code",
      "metadata": {
        "id": "4a2X-uGidMGt",
        "colab_type": "code",
        "colab": {}
      },
      "source": [
        "import numpy as np\n",
        "import h5py\n",
        "import matplotlib.pyplot as plt\n",
        "\n",
        "%matplotlib inline\n",
        "plt.rcParams['figure.figsize'] = (5.0, 4.0) # set default size of plots\n",
        "plt.rcParams['image.interpolation'] = 'nearest'\n",
        "plt.rcParams['image.cmap'] = 'gray'\n",
        "\n",
        "%load_ext autoreload\n",
        "%autoreload 2\n",
        "\n",
        "np.random.seed(1)"
      ],
      "execution_count": 0,
      "outputs": []
    },
    {
      "cell_type": "markdown",
      "metadata": {
        "id": "u5ABQcS7sQ6v",
        "colab_type": "text"
      },
      "source": [
        "### 1. Define padding to image"
      ]
    },
    {
      "cell_type": "code",
      "metadata": {
        "id": "UYRa0R_tqLfb",
        "colab_type": "code",
        "colab": {}
      },
      "source": [
        "# GRADED FUNCTION: zero_pad\n",
        "\n",
        "def zero_pad(X, pad):\n",
        "    \"\"\"\n",
        "    Pad with zeros all images of the dataset X. The padding is applied to the height and width of an image, \n",
        "    as illustrated in Figure 1.\n",
        "    \n",
        "    Argument:\n",
        "    X -- python numpy array of shape (m, n_H, n_W, n_C) representing a batch of m images\n",
        "    pad -- integer, amount of padding around each image on vertical and horizontal dimensions\n",
        "    \n",
        "    Returns:\n",
        "    X_pad -- padded image of shape (m, n_H + 2*pad, n_W + 2*pad, n_C)\n",
        "    \"\"\"\n",
        "    \n",
        "    ### START CODE HERE ### (≈ 1 line)\n",
        "    X_pad = np.pad(X, ((0, 0), (pad, pad), (pad, pad), (0, 0)), 'constant', constant_values=0)\n",
        "    ### END CODE HERE ###\n",
        "    \n",
        "    return X_pad"
      ],
      "execution_count": 0,
      "outputs": []
    },
    {
      "cell_type": "code",
      "metadata": {
        "id": "f74boCmMqTws",
        "colab_type": "code",
        "outputId": "c081bed2-cb2f-471c-b809-79b4b49b03b4",
        "colab": {
          "base_uri": "https://localhost:8080/",
          "height": 417
        }
      },
      "source": [
        "np.random.seed(1)\n",
        "x = np.random.randn(4,3,3,2)\n",
        "x_pad = zero_pad(x, 2)\n",
        "print(\"x.shape:\",x.shape)\n",
        "print(\"x_pad.shape:\", x_pad.shape)\n",
        "print(\"x[1,1]:\", x[1,1])\n",
        "print(\"x_pad[1,1]\",x_pad[1,1])\n",
        "\n",
        "fig, axarr = plt.subplots(1,2)\n",
        "axarr[0].set_title('x')\n",
        "axarr[0].imshow(x[0,:,:,0])\n",
        "axarr[1].set_title('x_pad')\n",
        "axarr[1].imshow(x_pad[0,:,:,0])"
      ],
      "execution_count": 0,
      "outputs": [
        {
          "output_type": "stream",
          "text": [
            "x.shape: (4, 3, 3, 2)\n",
            "x_pad.shape: (4, 7, 7, 2)\n",
            "x[1,1]: [[ 0.90085595 -0.68372786]\n",
            " [-0.12289023 -0.93576943]\n",
            " [-0.26788808  0.53035547]]\n",
            "x_pad[1,1] [[0. 0.]\n",
            " [0. 0.]\n",
            " [0. 0.]\n",
            " [0. 0.]\n",
            " [0. 0.]\n",
            " [0. 0.]\n",
            " [0. 0.]]\n"
          ],
          "name": "stdout"
        },
        {
          "output_type": "execute_result",
          "data": {
            "text/plain": [
              "<matplotlib.image.AxesImage at 0x7f01b89e7358>"
            ]
          },
          "metadata": {
            "tags": []
          },
          "execution_count": 3
        },
        {
          "output_type": "display_data",
          "data": {
            "image/png": "[encoded data removed]",
            "text/plain": [
              "<Figure size 360x288 with 2 Axes>"
            ]
          },
          "metadata": {
            "tags": []
          }
        }
      ]
    },
    {
      "cell_type": "markdown",
      "metadata": {
        "id": "GehfvMCvr6yZ",
        "colab_type": "text"
      },
      "source": [
        "### 2. Define Convolution on Single Step"
      ]
    },
    {
      "cell_type": "code",
      "metadata": {
        "id": "4YHCIoz3rbTP",
        "colab_type": "code",
        "colab": {}
      },
      "source": [
        "def conv_single_step(a_slice_prev, W, b):\n",
        "    s = np.multiply(a_slice_prev, W) + b\n",
        "    Z = np.sum(s)\n",
        "\n",
        "    return Z"
      ],
      "execution_count": 0,
      "outputs": []
    },
    {
      "cell_type": "code",
      "metadata": {
        "id": "2vTiD-6qrz5J",
        "colab_type": "code",
        "outputId": "b56cb426-c06c-428d-aeae-9ae968873158",
        "colab": {
          "base_uri": "https://localhost:8080/",
          "height": 34
        }
      },
      "source": [
        "np.random.seed(1)\n",
        "a_slice_prev = np.random.randn(4, 4, 3)\n",
        "W = np.random.randn(4, 4, 3)\n",
        "b = np.random.randn(1, 1, 1)\n",
        "\n",
        "Z = conv_single_step(a_slice_prev, W, b)\n",
        "print(\"Z =\", Z)"
      ],
      "execution_count": 0,
      "outputs": [
        {
          "output_type": "stream",
          "text": [
            "Z = -23.16021220252078\n"
          ],
          "name": "stdout"
        }
      ]
    },
    {
      "cell_type": "markdown",
      "metadata": {
        "id": "odZyEElasZxV",
        "colab_type": "text"
      },
      "source": [
        "### 3. Define Convolution Forward"
      ]
    },
    {
      "cell_type": "code",
      "metadata": {
        "id": "Om4VyXDAsecP",
        "colab_type": "code",
        "colab": {}
      },
      "source": [
        "def conv_forward(A_prev, W, b, hparams):\n",
        "    (m, n_H_prev, n_W_prev, n_C_prev) = A_prev.shape\n",
        "\n",
        "    (f,f,n_C_prev, n_C) = W.shape\n",
        "\n",
        "    stride = hparams['stride']\n",
        "    pad = hparams['pad']\n",
        "\n",
        "    n_H = int( (n_H_prev - f + 2*pad) / stride) + 1\n",
        "    n_W = int( (n_W_prev - f + 2*pad) / stride) + 1\n",
        "\n",
        "    Z = np.zeros((m, n_H, n_W, n_C))\n",
        "\n",
        "    A_prev_pad = zero_pad(A_prev, pad)\n",
        "\n",
        "    for i in range(m):\n",
        "        a_prev_pad = A_prev_pad[1]\n",
        "        for h in range(n_H):\n",
        "            for w in range(n_W):\n",
        "                for c in range(n_C):\n",
        "                    v_start = h * stride\n",
        "                    v_end = v_start + f\n",
        "                    h_start = w * stride\n",
        "                    h_end = h_start + f\n",
        "                    \n",
        "                    a_slice_prev = a_prev_pad[v_start:v_end, h_start:h_end,:]\n",
        "\n",
        "                    Z[i,h,w,c] = conv_single_step(a_slice_prev, W[...,c], b[...,c])\n",
        "\n",
        "    assert(Z.shape == (m, n_H, n_W, n_C))\n",
        "\n",
        "    cache = (A_prev,W, b, hparams)\n",
        "\n",
        "    return Z, cache"
      ],
      "execution_count": 0,
      "outputs": []
    },
    {
      "cell_type": "code",
      "metadata": {
        "id": "avZxv5edvkg-",
        "colab_type": "code",
        "outputId": "0a01bda8-9e45-41d2-8986-ee971854d7ae",
        "colab": {
          "base_uri": "https://localhost:8080/",
          "height": 86
        }
      },
      "source": [
        "np.random.seed(1)\n",
        "A_prev = np.random.randn(10, 4, 4, 3)\n",
        "W = np.random.randn(2, 2, 3, 8)\n",
        "b = np.random.randn(1, 1, 1, 8)\n",
        "hparameters = {\"pad\" : 2,\n",
        "               \"stride\": 1}\n",
        "\n",
        "Z, cache_conv = conv_forward(A_prev, W, b, hparameters)\n",
        "print(\"Z's mean =\", np.mean(Z))\n",
        "print(\"Z[1][2][3]\", Z[1,2,3])\n",
        "print(\"cache_conv[0][1][2][3] =\", cache_conv[0][1][2][3])"
      ],
      "execution_count": 0,
      "outputs": [
        {
          "output_type": "stream",
          "text": [
            "Z's mean = 0.10259422788382341\n",
            "Z[1][2][3] [  3.97577197  -2.90234252  -1.18706955  17.00859655   8.22302755\n",
            "   3.85652638 -11.20450403   2.16979357]\n",
            "cache_conv[0][1][2][3] = [-0.20075807  0.18656139  0.41005165]\n"
          ],
          "name": "stdout"
        }
      ]
    },
    {
      "cell_type": "markdown",
      "metadata": {
        "id": "3L7zD5DJto2E",
        "colab_type": "text"
      },
      "source": [
        "### 4. Pooling"
      ]
    },
    {
      "cell_type": "code",
      "metadata": {
        "id": "9_6AEX3nv39W",
        "colab_type": "code",
        "colab": {}
      },
      "source": [
        "def pool_forward(A_prev, hparams, mode=\"max\"):\n",
        "    (m, n_H_prev, n_W_prev, n_C_prev) = A_prev.shape\n",
        "    f = hparams['f']\n",
        "    stride = hparams['stride']\n",
        "\n",
        "    n_H = int(1+ (n_H_prev - f)/stride)\n",
        "    n_W = int(1 + (n_W_prev - f)/stride)\n",
        "    n_C = n_C_prev\n",
        "\n",
        "    A = np.zeros((m,n_H, n_W,n_C))\n",
        "    for i in range(m):\n",
        "        for h in range(n_H):\n",
        "            for w in range(n_W):\n",
        "                for c in range(n_C):\n",
        "                    v_start = h*stride\n",
        "                    v_end = v_start + f\n",
        "                    h_start = w*stride\n",
        "                    h_end = h_start + f\n",
        "\n",
        "                    a_prev_slice = A_prev[i, v_start:v_end, h_start:h_end,c]\n",
        "\n",
        "                    if mode == \"max\":\n",
        "                        A[i,h,w,c] = np.max(a_prev_slice)\n",
        "                    elif mode==\"average\":\n",
        "                        A[i,h,w,c] = np.mean(a_prev_slice)\n",
        "\n",
        "    assert(A.shape == (m,n_H, n_W, n_C))\n",
        "\n",
        "    cache = (A_prev, hparams)\n",
        "    return A, cache"
      ],
      "execution_count": 0,
      "outputs": []
    },
    {
      "cell_type": "code",
      "metadata": {
        "id": "vXMfHxugwVEr",
        "colab_type": "code",
        "outputId": "9add849d-4d93-47b8-de2c-2201411959ac",
        "colab": {
          "base_uri": "https://localhost:8080/",
          "height": 208
        }
      },
      "source": [
        "np.random.seed(1)\n",
        "A_prev = np.random.randn(2, 4, 4, 3)\n",
        "hparameters = {\"stride\" : 1, \"f\": 4}\n",
        "\n",
        "A, cache = pool_forward(A_prev, hparameters)\n",
        "print(\"mode = max\")\n",
        "print(\"A =\", A)\n",
        "print()\n",
        "A, cache = pool_forward(A_prev, hparameters, mode = \"average\")\n",
        "print(\"mode = average\")\n",
        "print(\"A =\", A)"
      ],
      "execution_count": 0,
      "outputs": [
        {
          "output_type": "stream",
          "text": [
            "mode = max\n",
            "A = [[[[1.74481176 1.6924546  2.10025514]]]\n",
            "\n",
            "\n",
            " [[[1.19891788 1.51981682 2.18557541]]]]\n",
            "\n",
            "mode = average\n",
            "A = [[[[-0.09498456  0.11180064 -0.14263511]]]\n",
            "\n",
            "\n",
            " [[[-0.09525108  0.28325018  0.33035185]]]]\n"
          ],
          "name": "stdout"
        }
      ]
    },
    {
      "cell_type": "markdown",
      "metadata": {
        "id": "XEaH3o_qyttu",
        "colab_type": "text"
      },
      "source": [
        "### 5. Backprop Conv"
      ]
    },
    {
      "cell_type": "code",
      "metadata": {
        "id": "zadk7oJYysTY",
        "colab_type": "code",
        "colab": {}
      },
      "source": [
        "def conv_backward(dZ, cache):\n",
        "    (A_prev, W, b, hparams) = cache\n",
        "\n",
        "    (m, n_H_prev, n_W_prev, n_C_prev) = A_prev.shape\n",
        "\n",
        "    (f, f, n_C_prev, n_C) = W.shape\n",
        "\n",
        "    stride = hparams['stride']\n",
        "    pad = hparams['pad']\n",
        "\n",
        "    (m, n_H, n_W, n_C) = dZ.shape\n",
        "    dA_prev = np.zeros((m,n_H_prev,n_W_prev, n_C_prev))\n",
        "    dW = np.zeros((f,f,n_C_prev,n_C))\n",
        "    db = np.zeros((1,1,1,n_C))\n",
        "\n",
        "    A_prev_pad = zero_pad(A_prev,pad)\n",
        "    dA_prev_pad = zero_pad(dA_prev, pad)\n",
        "\n",
        "    for i in range(m):\n",
        "        a_prev_pad = A_prev_pad[i]\n",
        "        da_prev_pad = dA_prev_pad[i]\n",
        "\n",
        "        for h in range(n_H):\n",
        "            for w in range(n_W):\n",
        "                for c in range(n_C):\n",
        "                    v_start = h * stride\n",
        "                    v_end = v_start + f\n",
        "                    h_start = w * stride\n",
        "                    h_end = h_start + f\n",
        "\n",
        "                    a_slice = a_prev_pad[v_start:v_end, h_start:h_end,:]\n",
        "\n",
        "                    da_prev_pad[v_start:v_end, h_start:h_end,:] += W[:,:,:,c] * dZ[i,h,w,c]\n",
        "                    dW[:,:,:,c] += a_slice * dZ[i,h,w,c]\n",
        "                    db[:,:,:,c] += dZ[i,h,w,c]\n",
        "        dA_prev[i,:,:,:] = da_prev_pad[pad:-pad, pad:-pad, :]\n",
        "    assert(dA_prev.shape == (m,n_H_prev, n_W_prev, n_C_prev))\n",
        "\n",
        "    return dA_prev, dW, db\n"
      ],
      "execution_count": 0,
      "outputs": []
    },
    {
      "cell_type": "code",
      "metadata": {
        "id": "ohExyXvj2-2b",
        "colab_type": "code",
        "outputId": "88226430-772e-493c-d0b7-282f10213608",
        "colab": {
          "base_uri": "https://localhost:8080/",
          "height": 86
        }
      },
      "source": [
        "np.random.seed(1)\n",
        "dA, dW, db = conv_backward(Z, cache_conv)\n",
        "print(\"dA_mean =\", np.mean(dA))\n",
        "print(\"dW_mean =\", np.mean(dW))\n",
        "print(\"db_mean =\", np.mean(db))\n",
        "print(dA.shape)"
      ],
      "execution_count": 0,
      "outputs": [
        {
          "output_type": "stream",
          "text": [
            "dA_mean = 18.40098308643454\n",
            "dW_mean = 1.9595907051782742\n",
            "db_mean = 50.27117166306732\n",
            "(10, 4, 4, 3)\n"
          ],
          "name": "stdout"
        }
      ]
    },
    {
      "cell_type": "markdown",
      "metadata": {
        "id": "TIXuP8AU3TDp",
        "colab_type": "text"
      },
      "source": [
        "#### Create Mask"
      ]
    },
    {
      "cell_type": "code",
      "metadata": {
        "id": "lLwloVl_3W6C",
        "colab_type": "code",
        "colab": {}
      },
      "source": [
        "def create_mask_from_window(x):\n",
        "    mask = x == np.max(x)\n",
        "\n",
        "    return mask"
      ],
      "execution_count": 0,
      "outputs": []
    },
    {
      "cell_type": "code",
      "metadata": {
        "id": "ZvCDWymW3jHU",
        "colab_type": "code",
        "outputId": "f197b9ca-edd5-4410-ab32-7d7bfc1fe662",
        "colab": {
          "base_uri": "https://localhost:8080/",
          "height": 86
        }
      },
      "source": [
        "np.random.seed(1)\n",
        "x = np.random.randn(2,3)\n",
        "mask = create_mask_from_window(x)\n",
        "print('x = ', x)\n",
        "print(\"mask = \", mask)"
      ],
      "execution_count": 0,
      "outputs": [
        {
          "output_type": "stream",
          "text": [
            "x =  [[ 1.62434536 -0.61175641 -0.52817175]\n",
            " [-1.07296862  0.86540763 -2.3015387 ]]\n",
            "mask =  [[ True False False]\n",
            " [False False False]]\n"
          ],
          "name": "stdout"
        }
      ]
    },
    {
      "cell_type": "markdown",
      "metadata": {
        "id": "eIoj5mX63olB",
        "colab_type": "text"
      },
      "source": [
        "#### Distribute Values"
      ]
    },
    {
      "cell_type": "code",
      "metadata": {
        "id": "ZvxkUgtH3usV",
        "colab_type": "code",
        "colab": {}
      },
      "source": [
        "def distribute_value(dZ, shape):\n",
        "    (n_H, n_W) = shape\n",
        "    average = dZ / (n_H * n_W)\n",
        "\n",
        "    a = np.ones(shape) * average\n",
        "\n",
        "    return a"
      ],
      "execution_count": 0,
      "outputs": []
    },
    {
      "cell_type": "code",
      "metadata": {
        "id": "Vp3kFG6b4B20",
        "colab_type": "code",
        "outputId": "6c0eef2e-2580-458e-bd41-e94b9068bf0d",
        "colab": {
          "base_uri": "https://localhost:8080/",
          "height": 52
        }
      },
      "source": [
        "a = distribute_value(2, (2,2))\n",
        "print('distributed value =', a)"
      ],
      "execution_count": 0,
      "outputs": [
        {
          "output_type": "stream",
          "text": [
            "distributed value = [[0.5 0.5]\n",
            " [0.5 0.5]]\n"
          ],
          "name": "stdout"
        }
      ]
    },
    {
      "cell_type": "markdown",
      "metadata": {
        "id": "pUyucex24YQl",
        "colab_type": "text"
      },
      "source": [
        "#### Pooling Backwards"
      ]
    },
    {
      "cell_type": "code",
      "metadata": {
        "id": "-8bPIrLi4dcy",
        "colab_type": "code",
        "colab": {}
      },
      "source": [
        "def pool_backward(dA, cache, mode=\"max\"):\n",
        "    (A_prev, hparams) = cache\n",
        "\n",
        "    stride = hparams['stride']\n",
        "    f = hparams['f']\n",
        "    \n",
        "    m, n_H_prev, n_W_prev, n_C_prev = A_prev.shape\n",
        "    m, n_H, n_W, n_C = dA.shape\n",
        "\n",
        "    dA_prev = np.zeros(A_prev.shape)\n",
        "\n",
        "    for i in range(m):\n",
        "        a_prev = A_prev[i]\n",
        "        for h in range(n_H):\n",
        "            for w in range(n_W):\n",
        "                for c in range(n_C):\n",
        "                    v_start = h\n",
        "                    v_end = v_start + f\n",
        "                    h_start = w\n",
        "                    h_end = h_start + f\n",
        "\n",
        "                    if mode == 'max':\n",
        "                        a_prev_slice = a_prev[v_start:v_end, h_start:h_end, c]\n",
        "                        mask = create_mask_from_window(a_prev_slice)\n",
        "                        dA_prev[i,v_start:v_end, h_start:h_end, c] += np.multiply(mask, dA[i,h,w,c])\n",
        "                    elif mode == 'average':\n",
        "                        da = dA[i,h,w,c]\n",
        "                        shape = (f,f)\n",
        "\n",
        "                        dA_prev[i,v_start:v_end, h_start:h_end, c] = distribute_value(da, shape)\n",
        "\n",
        "    assert(dA_prev.shape == A_prev.shape)\n",
        "\n",
        "    return dA_prev\n"
      ],
      "execution_count": 0,
      "outputs": []
    },
    {
      "cell_type": "code",
      "metadata": {
        "id": "8xU64IPt620k",
        "colab_type": "code",
        "outputId": "dea43241-a20b-4d45-ac45-b321aea9734a",
        "colab": {
          "base_uri": "https://localhost:8080/",
          "height": 208
        }
      },
      "source": [
        "np.random.seed(1)\n",
        "A_prev = np.random.randn(5, 5, 3, 2)\n",
        "hparameters = {\"stride\" : 1, \"f\": 2}\n",
        "A, cache = pool_forward(A_prev, hparameters)\n",
        "dA = np.random.randn(5, 4, 2, 2)\n",
        "\n",
        "dA_prev = pool_backward(dA, cache, mode = \"max\")\n",
        "print(\"mode = max\")\n",
        "print('mean of dA = ', np.mean(dA))\n",
        "print('dA_prev[1,1] = ', dA_prev[1,1])  \n",
        "print()\n",
        "dA_prev = pool_backward(dA, cache, mode = \"average\")\n",
        "print(\"mode = average\")\n",
        "print('mean of dA = ', np.mean(dA))\n",
        "print('dA_prev[1,1] = ', dA_prev[1,1])"
      ],
      "execution_count": 0,
      "outputs": [
        {
          "output_type": "stream",
          "text": [
            "mode = max\n",
            "mean of dA =  0.14571390272918056\n",
            "dA_prev[1,1] =  [[ 0.          0.        ]\n",
            " [ 5.05844394 -1.68282702]\n",
            " [ 0.          0.        ]]\n",
            "\n",
            "mode = average\n",
            "mean of dA =  0.14571390272918056\n",
            "dA_prev[1,1] =  [[-0.16172917  0.22537172]\n",
            " [ 0.63208143 -0.06215869]\n",
            " [ 0.63208143 -0.06215869]]\n"
          ],
          "name": "stdout"
        }
      ]
    },
    {
      "cell_type": "markdown",
      "metadata": {
        "id": "_Ez-buxL7HFo",
        "colab_type": "text"
      },
      "source": [
        "## CNN with KERAS"
      ]
    },
    {
      "cell_type": "markdown",
      "metadata": {
        "id": "zPRJ4fN-MO6H",
        "colab_type": "text"
      },
      "source": [
        "### Mount drive"
      ]
    },
    {
      "cell_type": "code",
      "metadata": {
        "id": "4eaVA4UG7jnx",
        "colab_type": "code",
        "outputId": "8e61185d-f839-42c8-d928-4d517c3910b6",
        "colab": {
          "base_uri": "https://localhost:8080/",
          "height": 124
        }
      },
      "source": [
        "from google.colab import drive\n",
        "drive.mount('/gdrive')"
      ],
      "execution_count": 0,
      "outputs": [
        {
          "output_type": "stream",
          "text": [
            "Go to this URL in a browser: https://accounts.google.com/o/oauth2/auth?client_id=947318989803-6bn6qk8qdgf4n4g3pfee6491hc0brc4i.apps.googleusercontent.com&redirect_uri=urn%3Aietf%3Awg%3Aoauth%3A2.0%3Aoob&scope=email%20https%3A%2F%2Fwww.googleapis.com%2Fauth%2Fdocs.test%20https%3A%2F%2Fwww.googleapis.com%2Fauth%2Fdrive%20https%3A%2F%2Fwww.googleapis.com%2Fauth%2Fdrive.photos.readonly%20https%3A%2F%2Fwww.googleapis.com%2Fauth%2Fpeopleapi.readonly&response_type=code\n",
            "\n",
            "Enter your authorization code:\n",
            "··········\n",
            "Mounted at /gdrive\n"
          ],
          "name": "stdout"
        }
      ]
    },
    {
      "cell_type": "markdown",
      "metadata": {
        "id": "f3o-mgOlMU8J",
        "colab_type": "text"
      },
      "source": [
        "### Copy necessery files to current directory"
      ]
    },
    {
      "cell_type": "code",
      "metadata": {
        "id": "JVxYxak_8ASc",
        "colab_type": "code",
        "outputId": "a3d3c8d5-4c3f-45f4-b8f7-85f237ab1589",
        "colab": {
          "base_uri": "https://localhost:8080/",
          "height": 52
        }
      },
      "source": [
        "!cp /gdrive/My\\ Drive/Day\\ 21/datasets -r .\n",
        "!cp /gdrive/My\\ Drive/Day\\ 21/kt_utils.py .\n",
        "!python kt_utils.py\n",
        "!pip install tensorboardcolab"
      ],
      "execution_count": 0,
      "outputs": [
        {
          "output_type": "stream",
          "text": [
            "Using TensorFlow backend.\n",
            "Requirement already satisfied: tensorboardcolab in /usr/local/lib/python3.6/dist-packages (0.0.22)\n"
          ],
          "name": "stdout"
        }
      ]
    },
    {
      "cell_type": "markdown",
      "metadata": {
        "id": "WTwt4o-XMfjl",
        "colab_type": "text"
      },
      "source": [
        "### Import library"
      ]
    },
    {
      "cell_type": "code",
      "metadata": {
        "id": "CpxxW36L81B2",
        "colab_type": "code",
        "outputId": "95def0d0-540f-4e13-d3d7-2cb62b1e1ab2",
        "colab": {
          "base_uri": "https://localhost:8080/",
          "height": 86
        }
      },
      "source": [
        "import numpy as np\n",
        "from keras import layers\n",
        "from keras.layers import Input, Dense, Activation, ZeroPadding2D, BatchNormalization, Flatten, Conv2D\n",
        "from keras.layers import AveragePooling2D, MaxPooling2D, Dropout, GlobalMaxPooling2D, GlobalAveragePooling2D\n",
        "from keras.models import Model\n",
        "from keras.preprocessing import image\n",
        "from keras.utils import layer_utils\n",
        "from keras.utils.data_utils import get_file\n",
        "from keras.applications.imagenet_utils import preprocess_input\n",
        "import pydot\n",
        "from IPython.display import SVG\n",
        "from keras.utils.vis_utils import model_to_dot\n",
        "from keras.utils import plot_model\n",
        "from kt_utils import *\n",
        "\n",
        "import keras.backend as K\n",
        "K.set_image_data_format('channels_last')\n",
        "\n",
        "from tensorboardcolab import TensorBoardColab, TensorBoardColabCallback\n",
        "tbc=TensorBoardColab()\n",
        "\n",
        "import matplotlib.pyplot as plt\n",
        "from matplotlib.pyplot import imshow\n",
        "\n",
        "%matplotlib inline"
      ],
      "execution_count": 0,
      "outputs": [
        {
          "output_type": "stream",
          "text": [
            "Using TensorFlow backend.\n"
          ],
          "name": "stderr"
        },
        {
          "output_type": "stream",
          "text": [
            "Wait for 8 seconds...\n",
            "TensorBoard link:\n",
            "https://b71a5e74.ngrok.io\n"
          ],
          "name": "stdout"
        }
      ]
    },
    {
      "cell_type": "markdown",
      "metadata": {
        "id": "Iab1JKYOMi6i",
        "colab_type": "text"
      },
      "source": [
        "### Load dataset and spliting totrain and test"
      ]
    },
    {
      "cell_type": "code",
      "metadata": {
        "id": "VhEYarEA8_8M",
        "colab_type": "code",
        "outputId": "5cb1d56b-b621-49b4-8427-e79d768efe19",
        "colab": {
          "base_uri": "https://localhost:8080/",
          "height": 121
        }
      },
      "source": [
        "X_train_orig, Y_train_orig, X_test_orig, Y_test_orig, classes = load_dataset()\n",
        "\n",
        "# Normalize image vectors\n",
        "X_train = X_train_orig/255.\n",
        "X_test = X_test_orig/255.\n",
        "\n",
        "# Reshape\n",
        "Y_train = Y_train_orig.T\n",
        "Y_test = Y_test_orig.T\n",
        "\n",
        "print (\"number of training examples = \" + str(X_train.shape[0]))\n",
        "print (\"number of test examples = \" + str(X_test.shape[0]))\n",
        "print (\"X_train shape: \" + str(X_train.shape))\n",
        "print (\"Y_train shape: \" + str(Y_train.shape))\n",
        "print (\"X_test shape: \" + str(X_test.shape))\n",
        "print (\"Y_test shape: \" + str(Y_test.shape))"
      ],
      "execution_count": 0,
      "outputs": [
        {
          "output_type": "stream",
          "text": [
            "number of training examples = 600\n",
            "number of test examples = 150\n",
            "X_train shape: (600, 64, 64, 3)\n",
            "Y_train shape: (600, 1)\n",
            "X_test shape: (150, 64, 64, 3)\n",
            "Y_test shape: (150, 1)\n"
          ],
          "name": "stdout"
        }
      ]
    },
    {
      "cell_type": "markdown",
      "metadata": {
        "id": "q2bIPBIHMsoH",
        "colab_type": "text"
      },
      "source": [
        "### Definisikan model umum"
      ]
    },
    {
      "cell_type": "code",
      "metadata": {
        "id": "o08F8wUC9Cdt",
        "colab_type": "code",
        "colab": {}
      },
      "source": [
        "def model(input_shape):\n",
        "    X_input = Input(input_shape)\n",
        "\n",
        "    # Zero-Padding: pads the border of X_input with zeroes\n",
        "    X = ZeroPadding2D((3, 3))(X_input)\n",
        "\n",
        "    # CONV -> BN -> RELU Block applied to X\n",
        "    X = Conv2D(32, (7, 7), strides = (1, 1), name = 'conv0')(X)\n",
        "    X = BatchNormalization(axis = 3, name = 'bn0')(X)\n",
        "    X = Activation('relu')(X)\n",
        "\n",
        "    # MAXPOOL\n",
        "    X = MaxPooling2D((2, 2), name='max_pool')(X)\n",
        "\n",
        "    # FLATTEN X (means convert it to a vector) + FULLYCONNECTED\n",
        "    X = Flatten()(X)\n",
        "    X = Dense(1, activation='sigmoid', name='fc')(X)\n",
        "\n",
        "    # Create model. This creates your Keras model instance, you'll use this instance to train/test the model.\n",
        "    model = Model(inputs = X_input, outputs = X, name='HappyModel')\n",
        "\n",
        "    return model"
      ],
      "execution_count": 0,
      "outputs": []
    },
    {
      "cell_type": "markdown",
      "metadata": {
        "id": "xwQ1nXnNMxkv",
        "colab_type": "text"
      },
      "source": [
        "### Train and evaluate model"
      ]
    },
    {
      "cell_type": "code",
      "metadata": {
        "id": "eB9JnBKKBn-0",
        "colab_type": "code",
        "outputId": "fa73341a-758b-4c7a-c89d-64f9f65d134e",
        "colab": {
          "base_uri": "https://localhost:8080/",
          "height": 1000
        }
      },
      "source": [
        "model_1 = model(X_train.shape[1:])\n",
        "model_1.compile('adam', 'binary_crossentropy', metrics=['accuracy'])\n",
        "model_1.fit(X_train, Y_train, epochs=40, batch_size=50, callbacks=[TensorBoardColabCallback(tbc)])\n",
        "preds = model_1.evaluate(X_test, Y_test, batch_size=32, verbose=1, sample_weight=None)\n",
        "\n",
        "print()\n",
        "print (\"Loss = \" + str(preds[0]))\n",
        "print (\"Test Accuracy = \" + str(preds[1]))"
      ],
      "execution_count": 0,
      "outputs": [
        {
          "output_type": "stream",
          "text": [
            "WARNING: Logging before flag parsing goes to stderr.\n",
            "W0730 04:51:26.922293 139646030858112 deprecation_wrapper.py:119] From /usr/local/lib/python3.6/dist-packages/keras/backend/tensorflow_backend.py:74: The name tf.get_default_graph is deprecated. Please use tf.compat.v1.get_default_graph instead.\n",
            "\n",
            "W0730 04:51:26.956733 139646030858112 deprecation_wrapper.py:119] From /usr/local/lib/python3.6/dist-packages/keras/backend/tensorflow_backend.py:517: The name tf.placeholder is deprecated. Please use tf.compat.v1.placeholder instead.\n",
            "\n",
            "W0730 04:51:26.975056 139646030858112 deprecation_wrapper.py:119] From /usr/local/lib/python3.6/dist-packages/keras/backend/tensorflow_backend.py:4138: The name tf.random_uniform is deprecated. Please use tf.random.uniform instead.\n",
            "\n",
            "W0730 04:51:27.022021 139646030858112 deprecation_wrapper.py:119] From /usr/local/lib/python3.6/dist-packages/keras/backend/tensorflow_backend.py:174: The name tf.get_default_session is deprecated. Please use tf.compat.v1.get_default_session instead.\n",
            "\n",
            "W0730 04:51:27.023692 139646030858112 deprecation_wrapper.py:119] From /usr/local/lib/python3.6/dist-packages/keras/backend/tensorflow_backend.py:181: The name tf.ConfigProto is deprecated. Please use tf.compat.v1.ConfigProto instead.\n",
            "\n",
            "W0730 04:51:27.306328 139646030858112 deprecation_wrapper.py:119] From /usr/local/lib/python3.6/dist-packages/keras/backend/tensorflow_backend.py:1834: The name tf.nn.fused_batch_norm is deprecated. Please use tf.compat.v1.nn.fused_batch_norm instead.\n",
            "\n",
            "W0730 04:51:27.387825 139646030858112 deprecation_wrapper.py:119] From /usr/local/lib/python3.6/dist-packages/keras/backend/tensorflow_backend.py:3976: The name tf.nn.max_pool is deprecated. Please use tf.nn.max_pool2d instead.\n",
            "\n",
            "W0730 04:51:27.414052 139646030858112 deprecation_wrapper.py:119] From /usr/local/lib/python3.6/dist-packages/keras/optimizers.py:790: The name tf.train.Optimizer is deprecated. Please use tf.compat.v1.train.Optimizer instead.\n",
            "\n",
            "W0730 04:51:27.441341 139646030858112 deprecation.py:323] From /usr/local/lib/python3.6/dist-packages/tensorflow/python/ops/nn_impl.py:180: add_dispatch_support.<locals>.wrapper (from tensorflow.python.ops.array_ops) is deprecated and will be removed in a future version.\n",
            "Instructions for updating:\n",
            "Use tf.where in 2.0, which has the same broadcast rule as np.where\n",
            "W0730 04:51:30.104358 139646030858112 deprecation_wrapper.py:119] From /usr/local/lib/python3.6/dist-packages/tensorboardcolab/core.py:49: The name tf.summary.FileWriter is deprecated. Please use tf.compat.v1.summary.FileWriter instead.\n",
            "\n",
            "W0730 04:51:30.216356 139646030858112 deprecation_wrapper.py:119] From /usr/local/lib/python3.6/dist-packages/keras/callbacks.py:850: The name tf.summary.merge_all is deprecated. Please use tf.compat.v1.summary.merge_all instead.\n",
            "\n"
          ],
          "name": "stderr"
        },
        {
          "output_type": "stream",
          "text": [
            "Epoch 1/40\n",
            "600/600 [==============================] - 6s 9ms/step - loss: 1.4297 - acc: 0.6233\n",
            "Epoch 2/40\n",
            "600/600 [==============================] - 5s 8ms/step - loss: 0.4308 - acc: 0.8217\n",
            "Epoch 3/40\n",
            "600/600 [==============================] - 5s 9ms/step - loss: 0.2536 - acc: 0.9017\n",
            "Epoch 4/40\n",
            "600/600 [==============================] - 5s 8ms/step - loss: 0.1473 - acc: 0.9483\n",
            "Epoch 5/40\n",
            "600/600 [==============================] - 5s 8ms/step - loss: 0.1210 - acc: 0.9533\n",
            "Epoch 6/40\n",
            "600/600 [==============================] - 5s 8ms/step - loss: 0.1057 - acc: 0.9700\n",
            "Epoch 7/40\n",
            "600/600 [==============================] - 5s 8ms/step - loss: 0.1073 - acc: 0.9667\n",
            "Epoch 8/40\n",
            "600/600 [==============================] - 5s 8ms/step - loss: 0.0945 - acc: 0.9683\n",
            "Epoch 9/40\n",
            "600/600 [==============================] - 5s 8ms/step - loss: 0.0692 - acc: 0.9850\n",
            "Epoch 10/40\n",
            "600/600 [==============================] - 5s 8ms/step - loss: 0.0528 - acc: 0.9833\n",
            "Epoch 11/40\n",
            "600/600 [==============================] - 5s 8ms/step - loss: 0.0506 - acc: 0.9900\n",
            "Epoch 12/40\n",
            "600/600 [==============================] - 5s 8ms/step - loss: 0.0461 - acc: 0.9867\n",
            "Epoch 13/40\n",
            "600/600 [==============================] - 5s 9ms/step - loss: 0.0567 - acc: 0.9833\n",
            "Epoch 14/40\n",
            "600/600 [==============================] - 5s 8ms/step - loss: 0.0541 - acc: 0.9833\n",
            "Epoch 15/40\n",
            "600/600 [==============================] - 5s 8ms/step - loss: 0.0768 - acc: 0.9700\n",
            "Epoch 16/40\n",
            "600/600 [==============================] - 5s 8ms/step - loss: 0.0566 - acc: 0.9833\n",
            "Epoch 17/40\n",
            "600/600 [==============================] - 5s 8ms/step - loss: 0.0458 - acc: 0.9833\n",
            "Epoch 18/40\n",
            "600/600 [==============================] - 5s 8ms/step - loss: 0.0418 - acc: 0.9883\n",
            "Epoch 19/40\n",
            "600/600 [==============================] - 5s 8ms/step - loss: 0.0334 - acc: 0.9950\n",
            "Epoch 20/40\n",
            "600/600 [==============================] - 5s 8ms/step - loss: 0.0276 - acc: 0.9950\n",
            "Epoch 21/40\n",
            "600/600 [==============================] - 5s 8ms/step - loss: 0.0220 - acc: 0.9950\n",
            "Epoch 22/40\n",
            "600/600 [==============================] - 5s 8ms/step - loss: 0.0231 - acc: 0.9933\n",
            "Epoch 23/40\n",
            "600/600 [==============================] - 5s 8ms/step - loss: 0.0203 - acc: 0.9950\n",
            "Epoch 24/40\n",
            "600/600 [==============================] - 5s 8ms/step - loss: 0.0334 - acc: 0.9850\n",
            "Epoch 25/40\n",
            "600/600 [==============================] - 5s 8ms/step - loss: 0.0331 - acc: 0.9867\n",
            "Epoch 26/40\n",
            "600/600 [==============================] - 5s 8ms/step - loss: 0.0222 - acc: 0.9983\n",
            "Epoch 27/40\n",
            "600/600 [==============================] - 5s 8ms/step - loss: 0.0149 - acc: 0.9983\n",
            "Epoch 28/40\n",
            "600/600 [==============================] - 5s 8ms/step - loss: 0.0145 - acc: 0.9967\n",
            "Epoch 29/40\n",
            "600/600 [==============================] - 5s 8ms/step - loss: 0.0173 - acc: 0.9950\n",
            "Epoch 30/40\n",
            "600/600 [==============================] - 5s 8ms/step - loss: 0.0136 - acc: 0.9967\n",
            "Epoch 31/40\n",
            "600/600 [==============================] - 5s 8ms/step - loss: 0.0110 - acc: 0.9967\n",
            "Epoch 32/40\n",
            "600/600 [==============================] - 5s 8ms/step - loss: 0.0122 - acc: 0.9967\n",
            "Epoch 33/40\n",
            "600/600 [==============================] - 5s 8ms/step - loss: 0.0096 - acc: 0.9983\n",
            "Epoch 34/40\n",
            "600/600 [==============================] - 5s 8ms/step - loss: 0.0092 - acc: 0.9983\n",
            "Epoch 35/40\n",
            "600/600 [==============================] - 5s 8ms/step - loss: 0.0112 - acc: 0.9967\n",
            "Epoch 36/40\n",
            "600/600 [==============================] - 5s 8ms/step - loss: 0.0128 - acc: 0.9967\n",
            "Epoch 37/40\n",
            "600/600 [==============================] - 5s 8ms/step - loss: 0.0145 - acc: 0.9950\n",
            "Epoch 38/40\n",
            "600/600 [==============================] - 5s 8ms/step - loss: 0.0109 - acc: 0.9983\n",
            "Epoch 39/40\n",
            "600/600 [==============================] - 5s 8ms/step - loss: 0.0106 - acc: 0.9967\n",
            "Epoch 40/40\n",
            "600/600 [==============================] - 5s 8ms/step - loss: 0.0086 - acc: 0.9983\n",
            "150/150 [==============================] - 1s 3ms/step\n",
            "\n",
            "Loss = 0.06695165395736695\n",
            "Test Accuracy = 0.9666666706403096\n"
          ],
          "name": "stdout"
        }
      ]
    },
    {
      "cell_type": "markdown",
      "metadata": {
        "id": "gzjXSfZDM17L",
        "colab_type": "text"
      },
      "source": [
        "### Definisikan model happy HOuse"
      ]
    },
    {
      "cell_type": "code",
      "metadata": {
        "id": "reyTO9Qo9jx6",
        "colab_type": "code",
        "colab": {}
      },
      "source": [
        "def HappyModel(input_shape):\n",
        "    X_input = Input(input_shape)\n",
        "\n",
        "    X = ZeroPadding2D((3, 3))(X_input)\n",
        "\n",
        "    # CONV -> BN -> RELU Block applied to X\n",
        "    X = Conv2D(32, (7, 7), strides=(1, 1), name='conv0')(X)\n",
        "    X = BatchNormalization(axis=3, name='bn0')(X)\n",
        "    X = Activation('relu')(X)\n",
        "\n",
        "    # MAXPOOL\n",
        "    X = MaxPooling2D((2, 2), name='max_pool')(X)\n",
        "\n",
        "    # FLATTEN X (means convert it to a vector) + FULLYCONNECTED\n",
        "    X = Flatten()(X)\n",
        "    X = Dense(1, activation='sigmoid', name='fc')(X)\n",
        "\n",
        "    # Create model. This creates your Keras model instance, you'll use this instance to train/test the model.\n",
        "    model = Model(inputs=X_input, outputs=X, name='HappyModel')\n",
        "\n",
        "    return model    "
      ],
      "execution_count": 0,
      "outputs": []
    },
    {
      "cell_type": "code",
      "metadata": {
        "id": "jfsqoe4o9r6k",
        "colab_type": "code",
        "colab": {}
      },
      "source": [
        "happyModel = HappyModel(X_train.shape[1:])"
      ],
      "execution_count": 0,
      "outputs": []
    },
    {
      "cell_type": "code",
      "metadata": {
        "id": "zWlbYySE9tOq",
        "colab_type": "code",
        "colab": {}
      },
      "source": [
        "happyModel.compile('adam', 'binary_crossentropy', metrics=['accuracy'])"
      ],
      "execution_count": 0,
      "outputs": []
    },
    {
      "cell_type": "code",
      "metadata": {
        "id": "Bl_VunI8-Smz",
        "colab_type": "code",
        "outputId": "78af09e8-af0a-4dc7-e24a-cee6ee44fa71",
        "colab": {
          "base_uri": "https://localhost:8080/",
          "height": 1000
        }
      },
      "source": [
        "happyModel.fit(X_train, Y_train, epochs=40, batch_size=50)"
      ],
      "execution_count": 0,
      "outputs": [
        {
          "output_type": "stream",
          "text": [
            "Epoch 1/40\n",
            "600/600 [==============================] - 5s 9ms/step - loss: 2.1453 - acc: 0.5567\n",
            "Epoch 2/40\n",
            "600/600 [==============================] - 5s 8ms/step - loss: 0.3523 - acc: 0.8267\n",
            "Epoch 3/40\n",
            "600/600 [==============================] - 5s 8ms/step - loss: 0.1834 - acc: 0.9400\n",
            "Epoch 4/40\n",
            "600/600 [==============================] - 5s 8ms/step - loss: 0.1494 - acc: 0.9417\n",
            "Epoch 5/40\n",
            "600/600 [==============================] - 5s 8ms/step - loss: 0.1286 - acc: 0.9550\n",
            "Epoch 6/40\n",
            "600/600 [==============================] - 5s 8ms/step - loss: 0.0794 - acc: 0.9833\n",
            "Epoch 7/40\n",
            "600/600 [==============================] - 5s 8ms/step - loss: 0.0844 - acc: 0.9767\n",
            "Epoch 8/40\n",
            "600/600 [==============================] - 5s 8ms/step - loss: 0.0636 - acc: 0.9817\n",
            "Epoch 9/40\n",
            "600/600 [==============================] - 5s 8ms/step - loss: 0.0604 - acc: 0.9850\n",
            "Epoch 10/40\n",
            "600/600 [==============================] - 5s 9ms/step - loss: 0.0571 - acc: 0.9783\n",
            "Epoch 11/40\n",
            "600/600 [==============================] - 5s 8ms/step - loss: 0.0501 - acc: 0.9850\n",
            "Epoch 12/40\n",
            "600/600 [==============================] - 5s 9ms/step - loss: 0.0464 - acc: 0.9850\n",
            "Epoch 13/40\n",
            "600/600 [==============================] - 5s 8ms/step - loss: 0.0463 - acc: 0.9850\n",
            "Epoch 14/40\n",
            "600/600 [==============================] - 5s 8ms/step - loss: 0.0443 - acc: 0.9883\n",
            "Epoch 15/40\n",
            "600/600 [==============================] - 5s 8ms/step - loss: 0.0421 - acc: 0.9850\n",
            "Epoch 16/40\n",
            "600/600 [==============================] - 5s 8ms/step - loss: 0.0347 - acc: 0.9933\n",
            "Epoch 17/40\n",
            "600/600 [==============================] - 5s 8ms/step - loss: 0.0261 - acc: 0.9950\n",
            "Epoch 18/40\n",
            "600/600 [==============================] - 5s 8ms/step - loss: 0.0260 - acc: 0.9950\n",
            "Epoch 19/40\n",
            "600/600 [==============================] - 5s 8ms/step - loss: 0.0222 - acc: 0.9950\n",
            "Epoch 20/40\n",
            "600/600 [==============================] - 5s 8ms/step - loss: 0.0238 - acc: 0.9967\n",
            "Epoch 21/40\n",
            "600/600 [==============================] - 5s 8ms/step - loss: 0.0272 - acc: 0.9950\n",
            "Epoch 22/40\n",
            "600/600 [==============================] - 5s 8ms/step - loss: 0.0275 - acc: 0.9917\n",
            "Epoch 23/40\n",
            "600/600 [==============================] - 5s 8ms/step - loss: 0.0211 - acc: 0.9967\n",
            "Epoch 24/40\n",
            "600/600 [==============================] - 5s 8ms/step - loss: 0.0210 - acc: 0.9950\n",
            "Epoch 25/40\n",
            "600/600 [==============================] - 5s 8ms/step - loss: 0.0445 - acc: 0.9833\n",
            "Epoch 26/40\n",
            "600/600 [==============================] - 5s 8ms/step - loss: 0.0257 - acc: 0.9933\n",
            "Epoch 27/40\n",
            "600/600 [==============================] - 5s 8ms/step - loss: 0.0224 - acc: 0.9950\n",
            "Epoch 28/40\n",
            "600/600 [==============================] - 5s 8ms/step - loss: 0.0151 - acc: 0.9967\n",
            "Epoch 29/40\n",
            "600/600 [==============================] - 5s 8ms/step - loss: 0.0134 - acc: 0.9983\n",
            "Epoch 30/40\n",
            "600/600 [==============================] - 5s 8ms/step - loss: 0.0111 - acc: 0.9983\n",
            "Epoch 31/40\n",
            "600/600 [==============================] - 5s 8ms/step - loss: 0.0221 - acc: 0.9950\n",
            "Epoch 32/40\n",
            "600/600 [==============================] - 5s 8ms/step - loss: 0.0161 - acc: 0.9967\n",
            "Epoch 33/40\n",
            "600/600 [==============================] - 5s 8ms/step - loss: 0.0162 - acc: 0.9983\n",
            "Epoch 34/40\n",
            "600/600 [==============================] - 5s 8ms/step - loss: 0.0183 - acc: 0.9967\n",
            "Epoch 35/40\n",
            "600/600 [==============================] - 5s 8ms/step - loss: 0.0192 - acc: 0.9950\n",
            "Epoch 36/40\n",
            "600/600 [==============================] - 5s 8ms/step - loss: 0.0147 - acc: 0.9933\n",
            "Epoch 37/40\n",
            "600/600 [==============================] - 5s 8ms/step - loss: 0.0116 - acc: 0.9983\n",
            "Epoch 38/40\n",
            "600/600 [==============================] - 5s 8ms/step - loss: 0.0113 - acc: 0.9967\n",
            "Epoch 39/40\n",
            "600/600 [==============================] - 5s 8ms/step - loss: 0.0099 - acc: 0.9967\n",
            "Epoch 40/40\n",
            "600/600 [==============================] - 5s 8ms/step - loss: 0.0096 - acc: 0.9950\n"
          ],
          "name": "stdout"
        },
        {
          "output_type": "execute_result",
          "data": {
            "text/plain": [
              "<keras.callbacks.History at 0x7f0190dd90b8>"
            ]
          },
          "metadata": {
            "tags": []
          },
          "execution_count": 28
        }
      ]
    },
    {
      "cell_type": "code",
      "metadata": {
        "id": "z4Fm2y7L9zvR",
        "colab_type": "code",
        "outputId": "def3556c-eb4e-4e64-a3f5-846e71ba01ec",
        "colab": {
          "base_uri": "https://localhost:8080/",
          "height": 86
        }
      },
      "source": [
        "preds = happyModel.evaluate(X_test, Y_test, batch_size=32, verbose=1, sample_weight=None)\n",
        "\n",
        "print()\n",
        "print (\"Loss = \" + str(preds[0]))\n",
        "print (\"Test Accuracy = \" + str(preds[1]))"
      ],
      "execution_count": 0,
      "outputs": [
        {
          "output_type": "stream",
          "text": [
            "150/150 [==============================] - 1s 4ms/step\n",
            "\n",
            "Loss = 0.07011157194773356\n",
            "Test Accuracy = 0.9733333373069764\n"
          ],
          "name": "stdout"
        }
      ]
    },
    {
      "cell_type": "code",
      "metadata": {
        "id": "OYbfjeX3QT5g",
        "colab_type": "code",
        "outputId": "3aac2628-ed74-473e-e0b4-feb0bad85cae",
        "colab": {
          "base_uri": "https://localhost:8080/",
          "height": 208
        }
      },
      "source": [
        "!wget https://pm1.narvii.com/6848/8d46372e7ea193940e0f1b4e7c3203996ef9af58v2_hq.jpg"
      ],
      "execution_count": 0,
      "outputs": [
        {
          "output_type": "stream",
          "text": [
            "--2019-07-30 05:03:36--  https://pm1.narvii.com/6848/8d46372e7ea193940e0f1b4e7c3203996ef9af58v2_hq.jpg\n",
            "Resolving pm1.narvii.com (pm1.narvii.com)... 13.32.80.11, 13.32.80.8, 13.32.80.33, ...\n",
            "Connecting to pm1.narvii.com (pm1.narvii.com)|13.32.80.11|:443... connected.\n",
            "HTTP request sent, awaiting response... 200 OK\n",
            "Length: 71036 (69K) [image/jpeg]\n",
            "Saving to: ‘8d46372e7ea193940e0f1b4e7c3203996ef9af58v2_hq.jpg’\n",
            "\n",
            "8d46372e7ea193940e0 100%[===================>]  69.37K   425KB/s    in 0.2s    \n",
            "\n",
            "2019-07-30 05:03:36 (425 KB/s) - ‘8d46372e7ea193940e0f1b4e7c3203996ef9af58v2_hq.jpg’ saved [71036/71036]\n",
            "\n"
          ],
          "name": "stdout"
        }
      ]
    },
    {
      "cell_type": "code",
      "metadata": {
        "id": "J4ROUZEDFn7Q",
        "colab_type": "code",
        "outputId": "a62d92b8-4518-48dd-aaf9-ddbf95f89a0e",
        "colab": {
          "base_uri": "https://localhost:8080/",
          "height": 286
        }
      },
      "source": [
        "img_path = '8d46372e7ea193940e0f1b4e7c3203996ef9af58v2_hq.jpg'\n",
        "\n",
        "img = image.load_img(img_path, target_size=(64, 64))\n",
        "imshow(img)\n",
        "\n",
        "x = image.img_to_array(img)\n",
        "x = np.expand_dims(x, axis=0)\n",
        "x = preprocess_input(x)\n",
        "\n",
        "print(happyModel.predict(x))"
      ],
      "execution_count": 0,
      "outputs": [
        {
          "output_type": "stream",
          "text": [
            "[[1.]]\n"
          ],
          "name": "stdout"
        },
        {
          "output_type": "display_data",
          "data": {
            "image/png": "[encoded data removed]",
            "text/plain": [
              "<Figure size 432x288 with 1 Axes>"
            ]
          },
          "metadata": {
            "tags": []
          }
        }
      ]
    },
    {
      "cell_type": "code",
      "metadata": {
        "id": "MY_VPfS1Q8Ob",
        "colab_type": "code",
        "outputId": "011159f7-53b2-4099-a250-1da1e44d661c",
        "colab": {
          "base_uri": "https://localhost:8080/",
          "height": 416
        }
      },
      "source": [
        "happyModel.summary()"
      ],
      "execution_count": 0,
      "outputs": [
        {
          "output_type": "stream",
          "text": [
            "_________________________________________________________________\n",
            "Layer (type)                 Output Shape              Param #   \n",
            "=================================================================\n",
            "input_2 (InputLayer)         (None, 64, 64, 3)         0         \n",
            "_________________________________________________________________\n",
            "zero_padding2d_2 (ZeroPaddin (None, 70, 70, 3)         0         \n",
            "_________________________________________________________________\n",
            "conv0 (Conv2D)               (None, 64, 64, 32)        4736      \n",
            "_________________________________________________________________\n",
            "bn0 (BatchNormalization)     (None, 64, 64, 32)        128       \n",
            "_________________________________________________________________\n",
            "activation_2 (Activation)    (None, 64, 64, 32)        0         \n",
            "_________________________________________________________________\n",
            "max_pool (MaxPooling2D)      (None, 32, 32, 32)        0         \n",
            "_________________________________________________________________\n",
            "flatten_2 (Flatten)          (None, 32768)             0         \n",
            "_________________________________________________________________\n",
            "fc (Dense)                   (None, 1)                 32769     \n",
            "=================================================================\n",
            "Total params: 37,633\n",
            "Trainable params: 37,569\n",
            "Non-trainable params: 64\n",
            "_________________________________________________________________\n"
          ],
          "name": "stdout"
        }
      ]
    },
    {
      "cell_type": "code",
      "metadata": {
        "id": "g4woM8_jRCYa",
        "colab_type": "code",
        "outputId": "a2b7b693-0fdd-4044-cf28-75dd9845ed9d",
        "colab": {
          "base_uri": "https://localhost:8080/",
          "height": 763
        }
      },
      "source": [
        "plot_model(happyModel, to_file='HappyModel.png')\n",
        "SVG(model_to_dot(happyModel).create(prog='dot', format='svg'))"
      ],
      "execution_count": 0,
      "outputs": [
        {
          "output_type": "execute_result",
          "data": {
            "text/plain": [
              "<IPython.core.display.SVG object>"
            ],
            "image/svg+xml": "<svg height=\"556pt\" viewBox=\"0.00 0.00 234.00 556.00\" width=\"234pt\" xmlns=\"http://www.w3.org/2000/svg\" xmlns:xlink=\"http://www.w3.org/1999/xlink\">\n<g class=\"graph\" id=\"graph0\" transform=\"scale(1 1) rotate(0) translate(4 552)\">\n<title>G</title>\n<polygon fill=\"#ffffff\" points=\"-4,4 -4,-552 230,-552 230,4 -4,4\" stroke=\"transparent\"/>\n<!-- 139644717343632 -->\n<g class=\"node\" id=\"node1\">\n<title>139644717343632</title>\n<polygon fill=\"none\" points=\"46.5,-511.5 46.5,-547.5 179.5,-547.5 179.5,-511.5 46.5,-511.5\" stroke=\"#000000\"/>\n<text fill=\"#000000\" font-family=\"Times,serif\" font-size=\"14.00\" text-anchor=\"middle\" x=\"113\" y=\"-525.8\">input_2: InputLayer</text>\n</g>\n<!-- 139644717344752 -->\n<g class=\"node\" id=\"node2\">\n<title>139644717344752</title>\n<polygon fill=\"none\" points=\"0,-438.5 0,-474.5 226,-474.5 226,-438.5 0,-438.5\" stroke=\"#000000\"/>\n<text fill=\"#000000\" font-family=\"Times,serif\" font-size=\"14.00\" text-anchor=\"middle\" x=\"113\" y=\"-452.8\">zero_padding2d_2: ZeroPadding2D</text>\n</g>\n<!-- 139644717343632&#45;&gt;139644717344752 -->\n<g class=\"edge\" id=\"edge1\">\n<title>139644717343632-&gt;139644717344752</title>\n<path d=\"M113,-511.4551C113,-503.3828 113,-493.6764 113,-484.6817\" fill=\"none\" stroke=\"#000000\"/>\n<polygon fill=\"#000000\" points=\"116.5001,-484.5903 113,-474.5904 109.5001,-484.5904 116.5001,-484.5903\" stroke=\"#000000\"/>\n</g>\n<!-- 139644717344808 -->\n<g class=\"node\" id=\"node3\">\n<title>139644717344808</title>\n<polygon fill=\"none\" points=\"58,-365.5 58,-401.5 168,-401.5 168,-365.5 58,-365.5\" stroke=\"#000000\"/>\n<text fill=\"#000000\" font-family=\"Times,serif\" font-size=\"14.00\" text-anchor=\"middle\" x=\"113\" y=\"-379.8\">conv0: Conv2D</text>\n</g>\n<!-- 139644717344752&#45;&gt;139644717344808 -->\n<g class=\"edge\" id=\"edge2\">\n<title>139644717344752-&gt;139644717344808</title>\n<path d=\"M113,-438.4551C113,-430.3828 113,-420.6764 113,-411.6817\" fill=\"none\" stroke=\"#000000\"/>\n<polygon fill=\"#000000\" points=\"116.5001,-411.5903 113,-401.5904 109.5001,-411.5904 116.5001,-411.5903\" stroke=\"#000000\"/>\n</g>\n<!-- 139644717345088 -->\n<g class=\"node\" id=\"node4\">\n<title>139644717345088</title>\n<polygon fill=\"none\" points=\"32.5,-292.5 32.5,-328.5 193.5,-328.5 193.5,-292.5 32.5,-292.5\" stroke=\"#000000\"/>\n<text fill=\"#000000\" font-family=\"Times,serif\" font-size=\"14.00\" text-anchor=\"middle\" x=\"113\" y=\"-306.8\">bn0: BatchNormalization</text>\n</g>\n<!-- 139644717344808&#45;&gt;139644717345088 -->\n<g class=\"edge\" id=\"edge3\">\n<title>139644717344808-&gt;139644717345088</title>\n<path d=\"M113,-365.4551C113,-357.3828 113,-347.6764 113,-338.6817\" fill=\"none\" stroke=\"#000000\"/>\n<polygon fill=\"#000000\" points=\"116.5001,-338.5903 113,-328.5904 109.5001,-338.5904 116.5001,-338.5903\" stroke=\"#000000\"/>\n</g>\n<!-- 139644717345928 -->\n<g class=\"node\" id=\"node5\">\n<title>139644717345928</title>\n<polygon fill=\"none\" points=\"36,-219.5 36,-255.5 190,-255.5 190,-219.5 36,-219.5\" stroke=\"#000000\"/>\n<text fill=\"#000000\" font-family=\"Times,serif\" font-size=\"14.00\" text-anchor=\"middle\" x=\"113\" y=\"-233.8\">activation_2: Activation</text>\n</g>\n<!-- 139644717345088&#45;&gt;139644717345928 -->\n<g class=\"edge\" id=\"edge4\">\n<title>139644717345088-&gt;139644717345928</title>\n<path d=\"M113,-292.4551C113,-284.3828 113,-274.6764 113,-265.6817\" fill=\"none\" stroke=\"#000000\"/>\n<polygon fill=\"#000000\" points=\"116.5001,-265.5903 113,-255.5904 109.5001,-265.5904 116.5001,-265.5903\" stroke=\"#000000\"/>\n</g>\n<!-- 139644734816720 -->\n<g class=\"node\" id=\"node6\">\n<title>139644734816720</title>\n<polygon fill=\"none\" points=\"26.5,-146.5 26.5,-182.5 199.5,-182.5 199.5,-146.5 26.5,-146.5\" stroke=\"#000000\"/>\n<text fill=\"#000000\" font-family=\"Times,serif\" font-size=\"14.00\" text-anchor=\"middle\" x=\"113\" y=\"-160.8\">max_pool: MaxPooling2D</text>\n</g>\n<!-- 139644717345928&#45;&gt;139644734816720 -->\n<g class=\"edge\" id=\"edge5\">\n<title>139644717345928-&gt;139644734816720</title>\n<path d=\"M113,-219.4551C113,-211.3828 113,-201.6764 113,-192.6817\" fill=\"none\" stroke=\"#000000\"/>\n<polygon fill=\"#000000\" points=\"116.5001,-192.5903 113,-182.5904 109.5001,-192.5904 116.5001,-192.5903\" stroke=\"#000000\"/>\n</g>\n<!-- 139645019377736 -->\n<g class=\"node\" id=\"node7\">\n<title>139645019377736</title>\n<polygon fill=\"none\" points=\"56.5,-73.5 56.5,-109.5 169.5,-109.5 169.5,-73.5 56.5,-73.5\" stroke=\"#000000\"/>\n<text fill=\"#000000\" font-family=\"Times,serif\" font-size=\"14.00\" text-anchor=\"middle\" x=\"113\" y=\"-87.8\">flatten_2: Flatten</text>\n</g>\n<!-- 139644734816720&#45;&gt;139645019377736 -->\n<g class=\"edge\" id=\"edge6\">\n<title>139644734816720-&gt;139645019377736</title>\n<path d=\"M113,-146.4551C113,-138.3828 113,-128.6764 113,-119.6817\" fill=\"none\" stroke=\"#000000\"/>\n<polygon fill=\"#000000\" points=\"116.5001,-119.5903 113,-109.5904 109.5001,-119.5904 116.5001,-119.5903\" stroke=\"#000000\"/>\n</g>\n<!-- 139644717338864 -->\n<g class=\"node\" id=\"node8\">\n<title>139644717338864</title>\n<polygon fill=\"none\" points=\"78,-.5 78,-36.5 148,-36.5 148,-.5 78,-.5\" stroke=\"#000000\"/>\n<text fill=\"#000000\" font-family=\"Times,serif\" font-size=\"14.00\" text-anchor=\"middle\" x=\"113\" y=\"-14.8\">fc: Dense</text>\n</g>\n<!-- 139645019377736&#45;&gt;139644717338864 -->\n<g class=\"edge\" id=\"edge7\">\n<title>139645019377736-&gt;139644717338864</title>\n<path d=\"M113,-73.4551C113,-65.3828 113,-55.6764 113,-46.6817\" fill=\"none\" stroke=\"#000000\"/>\n<polygon fill=\"#000000\" points=\"116.5001,-46.5903 113,-36.5904 109.5001,-46.5904 116.5001,-46.5903\" stroke=\"#000000\"/>\n</g>\n</g>\n</svg>"
          },
          "metadata": {
            "tags": []
          },
          "execution_count": 33
        }
      ]
    }
  ]
}